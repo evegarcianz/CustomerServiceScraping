{
  "nbformat": 4,
  "nbformat_minor": 0,
  "metadata": {
    "colab": {
      "name": "Reviews_Scraping.ipynb",
      "provenance": []
    },
    "kernelspec": {
      "name": "python3",
      "display_name": "Python 3"
    },
    "language_info": {
      "name": "python"
    }
  },
  "cells": [
    {
      "cell_type": "code",
      "execution_count": 1,
      "metadata": {
        "colab": {
          "base_uri": "https://localhost:8080/"
        },
        "id": "-hYKnBXiBAQR",
        "outputId": "6fbbac50-de85-4335-fd4c-360aa4475e24"
      },
      "outputs": [
        {
          "output_type": "stream",
          "name": "stdout",
          "text": [
            "Looking in indexes: https://pypi.org/simple, https://us-python.pkg.dev/colab-wheels/public/simple/\n",
            "Requirement already satisfied: beautifulsoup4 in /usr/local/lib/python3.7/dist-packages (4.6.3)\n"
          ]
        }
      ],
      "source": [
        "!pip install beautifulsoup4"
      ]
    },
    {
      "cell_type": "code",
      "source": [
        "!pip install requests"
      ],
      "metadata": {
        "colab": {
          "base_uri": "https://localhost:8080/"
        },
        "id": "AR2nG_uIBQ-C",
        "outputId": "9019a3ef-16df-4575-8bf4-3e9b514998e1"
      },
      "execution_count": 2,
      "outputs": [
        {
          "output_type": "stream",
          "name": "stdout",
          "text": [
            "Looking in indexes: https://pypi.org/simple, https://us-python.pkg.dev/colab-wheels/public/simple/\n",
            "Requirement already satisfied: requests in /usr/local/lib/python3.7/dist-packages (2.23.0)\n",
            "Requirement already satisfied: urllib3!=1.25.0,!=1.25.1,<1.26,>=1.21.1 in /usr/local/lib/python3.7/dist-packages (from requests) (1.24.3)\n",
            "Requirement already satisfied: chardet<4,>=3.0.2 in /usr/local/lib/python3.7/dist-packages (from requests) (3.0.4)\n",
            "Requirement already satisfied: idna<3,>=2.5 in /usr/local/lib/python3.7/dist-packages (from requests) (2.10)\n",
            "Requirement already satisfied: certifi>=2017.4.17 in /usr/local/lib/python3.7/dist-packages (from requests) (2022.6.15)\n"
          ]
        }
      ]
    },
    {
      "cell_type": "code",
      "source": [
        "from bs4 import BeautifulSoup\n",
        "import requests\n",
        "import re\n",
        "from datetime import datetime\n",
        "import pandas as pd\n",
        "import matplotlib.pyplot as plt\n",
        "import seaborn as sns"
      ],
      "metadata": {
        "id": "9769CymEKPg4"
      },
      "execution_count": 3,
      "outputs": []
    },
    {
      "cell_type": "code",
      "source": [
        "#This first URL is to obtain the total of pages we will iterate through\n",
        "#'https://www.trustpilot.com/review/www.axa.co.uk and https://www.trustpilot.com/review/www.axa.co.uk?page=1 work exactly the same '\n",
        "url= 'https://www.trustpilot.com/review/frontierinsurance.co.uk'\n",
        "results=requests.get(url)\n",
        "doc=BeautifulSoup(results.text, 'html.parser')\n",
        "\n",
        "#Obtains the total of pages\n",
        "pages=doc.find('a', {'name':'pagination-button-last'})\n",
        "\n",
        "# total_pages=int(pages.text)\n",
        "# total_pages\n",
        "pages\n"
      ],
      "metadata": {
        "id": "T3BYS1YLHoFc",
        "outputId": "a8d81dc9-fd40-4620-9cc0-2557f4632c1a",
        "colab": {
          "base_uri": "https://localhost:8080/"
        }
      },
      "execution_count": 4,
      "outputs": [
        {
          "output_type": "execute_result",
          "data": {
            "text/plain": [
              "<a aria-label=\"Page number 313\" class=\"link_internal__7XN06 button_button__T34Lr button_medium__a_AHE button_primary__VTK8w link_button___108l pagination-link_item__mkuN3\" data-pagination-button-last-link=\"true\" href=\"/review/frontierinsurance.co.uk?page=313\" name=\"pagination-button-last\" target=\"_self\">313</a>"
            ]
          },
          "metadata": {},
          "execution_count": 4
        }
      ]
    },
    {
      "cell_type": "code",
      "source": [
        "def rate_scrape():\n",
        "\n",
        "  #This first URL is to obtain the total of pages we will iterate through\n",
        "  #'https://www.trustpilot.com/review/www.axa.co.uk and https://www.trustpilot.com/review/www.axa.co.uk?page=1 work exactly the same '\n",
        "  url= 'https://www.trustpilot.com/review/www.admiral.com'\n",
        "  results=requests.get(url)\n",
        "  doc=BeautifulSoup(results.text, 'html.parser')\n",
        "\n",
        "  #Obtains the total of pages\n",
        "  rate=doc.find('p', {'class':'typography_typography__QgicV typography_bodysmall__irytL typography_color-gray-7__9Ut3K typography_weight-regular__TWEnf typography_fontstyle-normal__kHyN3'})\n",
        "\n",
        "  # total_pages=int(pages.text)\n",
        "  # total_pages\n",
        "  int_rate=rate.text\n",
        "  return int_rate\n"
      ],
      "metadata": {
        "id": "JxjPbchQAhaP"
      },
      "execution_count": 22,
      "outputs": []
    },
    {
      "cell_type": "code",
      "source": [
        "!pip install schedule"
      ],
      "metadata": {
        "id": "rieXaZngEk4r",
        "outputId": "73c34e23-c715-46cf-9426-efad85e9235b",
        "colab": {
          "base_uri": "https://localhost:8080/"
        }
      },
      "execution_count": 24,
      "outputs": [
        {
          "output_type": "stream",
          "name": "stdout",
          "text": [
            "Looking in indexes: https://pypi.org/simple, https://us-python.pkg.dev/colab-wheels/public/simple/\n",
            "Collecting schedule\n",
            "  Downloading schedule-1.1.0-py2.py3-none-any.whl (10 kB)\n",
            "Installing collected packages: schedule\n",
            "Successfully installed schedule-1.1.0\n"
          ]
        }
      ]
    },
    {
      "cell_type": "code",
      "source": [
        "import schedule\n",
        "import time\n",
        "\n",
        "schedule.every().day.at(\"21:52\").do(rate_scrape) # change 10:30 to time of your choice\n",
        "\n",
        "while True:\n",
        "    schedule.run_pending()\n",
        "    time.sleep(1)"
      ],
      "metadata": {
        "id": "0XywwsXMDuAN",
        "outputId": "0ce659e1-74aa-4fbc-e436-fd84d9bccbfe",
        "colab": {
          "base_uri": "https://localhost:8080/",
          "height": 200
        }
      },
      "execution_count": 26,
      "outputs": [
        {
          "output_type": "error",
          "ename": "KeyboardInterrupt",
          "evalue": "ignored",
          "traceback": [
            "\u001b[0;31m---------------------------------------------------------------------------\u001b[0m",
            "\u001b[0;31mKeyboardInterrupt\u001b[0m                         Traceback (most recent call last)",
            "\u001b[0;32m<ipython-input-26-2fdf23ec2311>\u001b[0m in \u001b[0;36m<module>\u001b[0;34m()\u001b[0m\n\u001b[1;32m      6\u001b[0m \u001b[0;32mwhile\u001b[0m \u001b[0;32mTrue\u001b[0m\u001b[0;34m:\u001b[0m\u001b[0;34m\u001b[0m\u001b[0;34m\u001b[0m\u001b[0m\n\u001b[1;32m      7\u001b[0m     \u001b[0mschedule\u001b[0m\u001b[0;34m.\u001b[0m\u001b[0mrun_pending\u001b[0m\u001b[0;34m(\u001b[0m\u001b[0;34m)\u001b[0m\u001b[0;34m\u001b[0m\u001b[0;34m\u001b[0m\u001b[0m\n\u001b[0;32m----> 8\u001b[0;31m     \u001b[0mtime\u001b[0m\u001b[0;34m.\u001b[0m\u001b[0msleep\u001b[0m\u001b[0;34m(\u001b[0m\u001b[0;36m1\u001b[0m\u001b[0;34m)\u001b[0m\u001b[0;34m\u001b[0m\u001b[0;34m\u001b[0m\u001b[0m\n\u001b[0m",
            "\u001b[0;31mKeyboardInterrupt\u001b[0m: "
          ]
        }
      ]
    },
    {
      "cell_type": "markdown",
      "source": [
        "## Obtaining reviews paragraphs"
      ],
      "metadata": {
        "id": "i3CL2oxVdL-r"
      }
    },
    {
      "cell_type": "code",
      "source": [
        "#Only the paragraphs belonging to the correct class reviews\n",
        "#paragraphs2=doc.find_all('p',{'class':\"typography_typography__QgicV typography_body__9UBeQ typography_color-black__5LYEn typography_weight-regular__TWEnf typography_fontstyle-normal__kHyN3\"})\n"
      ],
      "metadata": {
        "id": "Je8ZFfCuQvzh"
      },
      "execution_count": 5,
      "outputs": []
    },
    {
      "cell_type": "code",
      "source": [
        "#text for obtaining the text even if it has breaks <br>\n",
        "#if I use .string instead of .text returns None when <br> present\n",
        "# for para in paragraphs2:\n",
        "#   print(para.text)"
      ],
      "metadata": {
        "id": "S_ySkVoIQ2V3"
      },
      "execution_count": 6,
      "outputs": []
    },
    {
      "cell_type": "markdown",
      "source": [
        "## Obtaining the date of the reviews"
      ],
      "metadata": {
        "id": "E2RWYf0ydWt3"
      }
    },
    {
      "cell_type": "code",
      "source": [
        "# dates=doc.find_all('time')\n",
        "# len(dates)"
      ],
      "metadata": {
        "id": "FPJCAtTzdBjf"
      },
      "execution_count": 7,
      "outputs": []
    },
    {
      "cell_type": "markdown",
      "source": [
        "## Obtaining data by descendants"
      ],
      "metadata": {
        "id": "2rwAtsvnbLSz"
      }
    },
    {
      "cell_type": "code",
      "source": [
        "# section=doc.find('section',{'class':\"styles_reviewsContainer__3_GQw\"})\n",
        "\n",
        "## Should iterate through these articles\n",
        "# articles=doc.find_all('article',{'class':\"paper_paper__1PY90 paper_square__lJX8a card_card__lQWDv styles_reviewCard__hcAvl\"})\n",
        "# articles=doc.find_all('article',{'class':\"paper_paper__1PY90 paper_square__lJX8a card_card__lQWDv styles_reviewCard__hcAvl styles_raised__HxiOi\"})\n",
        "\n",
        "#wrapers are the base, they are the containers of the reviews\n",
        "\n"
      ],
      "metadata": {
        "id": "HG98hqC6bscJ"
      },
      "execution_count": 8,
      "outputs": []
    },
    {
      "cell_type": "code",
      "source": [
        "## Obtaining date\n",
        "# times=wrapers[0].contents[0].contents[1].find('time')\n",
        "# t=times['datetime']\n",
        "# fecha=re.search(\"([0-9]{4}\\-[0-9]{2}\\-[0-9]{2})\", t)\n",
        "# fecha[0]\n",
        "# print (datetime.fromisoformat(fecha[0]).date())"
      ],
      "metadata": {
        "id": "z4V80bfvm4SY"
      },
      "execution_count": 9,
      "outputs": []
    },
    {
      "cell_type": "code",
      "source": [
        "# for w in wrapers[3].contents[1]:\n",
        "#   print(w)\n"
      ],
      "metadata": {
        "id": "IjOEesRNup9Y"
      },
      "execution_count": 10,
      "outputs": []
    },
    {
      "cell_type": "code",
      "source": [
        "# wrapers[3].contents[1].find('p').text"
      ],
      "metadata": {
        "id": "a7P6-Se_wVzN"
      },
      "execution_count": 11,
      "outputs": []
    },
    {
      "cell_type": "code",
      "source": [
        "# for page in range(total_pages):\n",
        "lista=[]\n",
        "for page in range(1,2):\n",
        "# for page in range(1,total_pages+1):\n",
        "\n",
        "  #print(f'this is page{page}')\n",
        "\n",
        "\n",
        "  url= f'https://www.trustpilot.com/review/www.axa.co.uk?page={page}'\n",
        "  results=requests.get(url)\n",
        "  doc=BeautifulSoup(results.text, 'html.parser')\n",
        "\n",
        "#wrapers are the base of everything there is on content wrapper of class \"styles_reviewContentwrapper__zH_9M\n",
        "#for every review and they nest rating, time, title and the review text\n",
        "  wrapers=doc.find_all('section',{'class':\"styles_reviewContentwrapper__zH_9M\"})\n",
        "  \n",
        "  \n",
        "  for i in range(len(wrapers)):\n",
        "    #this gets the rating wrapers[i].contents[0]['data-service-review-rating']\n",
        "    rating=int(wrapers[i].contents[0]['data-service-review-rating'])\n",
        "    #this gets the date\n",
        "    times_tag=wrapers[i].contents[0].contents[1].find('time')\n",
        "    time_string_long=times_tag['datetime']\n",
        "    time_string_regex=re.search(\"([0-9]{4}\\-[0-9]{2}\\-[0-9]{2})\", time_string_long)\n",
        "    time_string_short=time_string_regex[0]\n",
        "    date= datetime.fromisoformat(time_string_short).date()\n",
        "    #Review title\n",
        "    title=wrapers[i].contents[1].find('h2').text\n",
        "    #Review tex\n",
        "    if wrapers[i].contents[1].find('p'):\n",
        "      review=wrapers[i].contents[1].find('p').text\n",
        "    else:\n",
        "      review= None\n",
        "\n",
        "\n",
        "    data=[rating,date,title,review]\n",
        "\n",
        "    lista.append(data) \n",
        "  \n"
      ],
      "metadata": {
        "id": "PUrKE3wflcML"
      },
      "execution_count": 12,
      "outputs": []
    },
    {
      "cell_type": "code",
      "source": [
        "# df=pd.DataFrame(lista,columns=[['Rating', 'Date', 'Title', 'Review']])\n",
        "df=pd.DataFrame(lista)"
      ],
      "metadata": {
        "id": "7fHuYAH7nPtV"
      },
      "execution_count": 13,
      "outputs": []
    },
    {
      "cell_type": "code",
      "source": [
        "# type(df.Date.loc[0][0])"
      ],
      "metadata": {
        "id": "YVrrwOZ8h5HD"
      },
      "execution_count": 14,
      "outputs": []
    },
    {
      "cell_type": "code",
      "source": [
        "df"
      ],
      "metadata": {
        "colab": {
          "base_uri": "https://localhost:8080/",
          "height": 676
        },
        "id": "LYhxTFvniP_Z",
        "outputId": "868d0c40-92fc-4e35-f717-356f2fe13c85"
      },
      "execution_count": 15,
      "outputs": [
        {
          "output_type": "execute_result",
          "data": {
            "text/plain": [
              "    0           1                                                  2  \\\n",
              "0   5  2022-08-07             A very good online service and a quote   \n",
              "1   5  2022-08-07               87 Year-old well satisfied Customer!   \n",
              "2   5  2022-08-07                                               good   \n",
              "3   3  2022-08-06           No complaint to make with the assistant…   \n",
              "4   5  2022-08-06           Very easy and quick to change my policy…   \n",
              "5   5  2022-08-06                                      Daisy Insured   \n",
              "6   5  2022-08-06                       Straight forward easy to use   \n",
              "7   3  2022-08-06                    Good cover at competetive costs   \n",
              "8   5  2022-08-06                                          Insurance   \n",
              "9   5  2022-08-06                          Just easy and stress free   \n",
              "10  5  2022-08-06                                      No complaints   \n",
              "11  5  2022-08-06                          Easy to use and to follow   \n",
              "12  5  2022-08-06                   Staff were extremely helpful in…   \n",
              "13  5  2022-08-06                                      change policy   \n",
              "14  5  2022-08-06               Very simple and easy to use on line…   \n",
              "15  5  2022-08-06  Loyalty       The online process was quite str...   \n",
              "16  5  2022-08-06                     Excellent easy to use web site   \n",
              "17  5  2022-08-06           I was able to add my daughter to my car…   \n",
              "18  5  2022-08-06              couldn’t find anything wrong with AxA   \n",
              "19  5  2022-08-06                          Effortless, thank you AXA   \n",
              "\n",
              "                                                    3  \n",
              "0   A very good online service and a quote. Will d...  \n",
              "1   At 87 years of age with a lifetime of claim fr...  \n",
              "2                                       good services  \n",
              "3   No complaint to make with the assistant but di...  \n",
              "4   Very easy and quick to change my policy when I...  \n",
              "5     Easy to complete with no fuss and a great price  \n",
              "6                                                None  \n",
              "7   Obtained Home Insurance online after using Com...  \n",
              "8                Pleasant experience, done with ease.  \n",
              "9                                                None  \n",
              "10  Had a bit of trouble with organising the insur...  \n",
              "11                                               None  \n",
              "12  Staff were extremely helpful in renewing my in...  \n",
              "13  very easy to change details on my policy on th...  \n",
              "14  Very simple and easy to use on line service.I ...  \n",
              "15  The online process was quite straight forward,...  \n",
              "16  Excellent easy to use web site, access documen...  \n",
              "17  I was able to add my daughter to my car insura...  \n",
              "18  Phone the old people are polite procedure easy...  \n",
              "19  Easy process from start to finish. Nearly 50% ...  "
            ],
            "text/html": [
              "\n",
              "  <div id=\"df-8d545f02-bff1-4f64-8e3b-c52016643b17\">\n",
              "    <div class=\"colab-df-container\">\n",
              "      <div>\n",
              "<style scoped>\n",
              "    .dataframe tbody tr th:only-of-type {\n",
              "        vertical-align: middle;\n",
              "    }\n",
              "\n",
              "    .dataframe tbody tr th {\n",
              "        vertical-align: top;\n",
              "    }\n",
              "\n",
              "    .dataframe thead th {\n",
              "        text-align: right;\n",
              "    }\n",
              "</style>\n",
              "<table border=\"1\" class=\"dataframe\">\n",
              "  <thead>\n",
              "    <tr style=\"text-align: right;\">\n",
              "      <th></th>\n",
              "      <th>0</th>\n",
              "      <th>1</th>\n",
              "      <th>2</th>\n",
              "      <th>3</th>\n",
              "    </tr>\n",
              "  </thead>\n",
              "  <tbody>\n",
              "    <tr>\n",
              "      <th>0</th>\n",
              "      <td>5</td>\n",
              "      <td>2022-08-07</td>\n",
              "      <td>A very good online service and a quote</td>\n",
              "      <td>A very good online service and a quote. Will d...</td>\n",
              "    </tr>\n",
              "    <tr>\n",
              "      <th>1</th>\n",
              "      <td>5</td>\n",
              "      <td>2022-08-07</td>\n",
              "      <td>87 Year-old well satisfied Customer!</td>\n",
              "      <td>At 87 years of age with a lifetime of claim fr...</td>\n",
              "    </tr>\n",
              "    <tr>\n",
              "      <th>2</th>\n",
              "      <td>5</td>\n",
              "      <td>2022-08-07</td>\n",
              "      <td>good</td>\n",
              "      <td>good services</td>\n",
              "    </tr>\n",
              "    <tr>\n",
              "      <th>3</th>\n",
              "      <td>3</td>\n",
              "      <td>2022-08-06</td>\n",
              "      <td>No complaint to make with the assistant…</td>\n",
              "      <td>No complaint to make with the assistant but di...</td>\n",
              "    </tr>\n",
              "    <tr>\n",
              "      <th>4</th>\n",
              "      <td>5</td>\n",
              "      <td>2022-08-06</td>\n",
              "      <td>Very easy and quick to change my policy…</td>\n",
              "      <td>Very easy and quick to change my policy when I...</td>\n",
              "    </tr>\n",
              "    <tr>\n",
              "      <th>5</th>\n",
              "      <td>5</td>\n",
              "      <td>2022-08-06</td>\n",
              "      <td>Daisy Insured</td>\n",
              "      <td>Easy to complete with no fuss and a great price</td>\n",
              "    </tr>\n",
              "    <tr>\n",
              "      <th>6</th>\n",
              "      <td>5</td>\n",
              "      <td>2022-08-06</td>\n",
              "      <td>Straight forward easy to use</td>\n",
              "      <td>None</td>\n",
              "    </tr>\n",
              "    <tr>\n",
              "      <th>7</th>\n",
              "      <td>3</td>\n",
              "      <td>2022-08-06</td>\n",
              "      <td>Good cover at competetive costs</td>\n",
              "      <td>Obtained Home Insurance online after using Com...</td>\n",
              "    </tr>\n",
              "    <tr>\n",
              "      <th>8</th>\n",
              "      <td>5</td>\n",
              "      <td>2022-08-06</td>\n",
              "      <td>Insurance</td>\n",
              "      <td>Pleasant experience, done with ease.</td>\n",
              "    </tr>\n",
              "    <tr>\n",
              "      <th>9</th>\n",
              "      <td>5</td>\n",
              "      <td>2022-08-06</td>\n",
              "      <td>Just easy and stress free</td>\n",
              "      <td>None</td>\n",
              "    </tr>\n",
              "    <tr>\n",
              "      <th>10</th>\n",
              "      <td>5</td>\n",
              "      <td>2022-08-06</td>\n",
              "      <td>No complaints</td>\n",
              "      <td>Had a bit of trouble with organising the insur...</td>\n",
              "    </tr>\n",
              "    <tr>\n",
              "      <th>11</th>\n",
              "      <td>5</td>\n",
              "      <td>2022-08-06</td>\n",
              "      <td>Easy to use and to follow</td>\n",
              "      <td>None</td>\n",
              "    </tr>\n",
              "    <tr>\n",
              "      <th>12</th>\n",
              "      <td>5</td>\n",
              "      <td>2022-08-06</td>\n",
              "      <td>Staff were extremely helpful in…</td>\n",
              "      <td>Staff were extremely helpful in renewing my in...</td>\n",
              "    </tr>\n",
              "    <tr>\n",
              "      <th>13</th>\n",
              "      <td>5</td>\n",
              "      <td>2022-08-06</td>\n",
              "      <td>change policy</td>\n",
              "      <td>very easy to change details on my policy on th...</td>\n",
              "    </tr>\n",
              "    <tr>\n",
              "      <th>14</th>\n",
              "      <td>5</td>\n",
              "      <td>2022-08-06</td>\n",
              "      <td>Very simple and easy to use on line…</td>\n",
              "      <td>Very simple and easy to use on line service.I ...</td>\n",
              "    </tr>\n",
              "    <tr>\n",
              "      <th>15</th>\n",
              "      <td>5</td>\n",
              "      <td>2022-08-06</td>\n",
              "      <td>Loyalty       The online process was quite str...</td>\n",
              "      <td>The online process was quite straight forward,...</td>\n",
              "    </tr>\n",
              "    <tr>\n",
              "      <th>16</th>\n",
              "      <td>5</td>\n",
              "      <td>2022-08-06</td>\n",
              "      <td>Excellent easy to use web site</td>\n",
              "      <td>Excellent easy to use web site, access documen...</td>\n",
              "    </tr>\n",
              "    <tr>\n",
              "      <th>17</th>\n",
              "      <td>5</td>\n",
              "      <td>2022-08-06</td>\n",
              "      <td>I was able to add my daughter to my car…</td>\n",
              "      <td>I was able to add my daughter to my car insura...</td>\n",
              "    </tr>\n",
              "    <tr>\n",
              "      <th>18</th>\n",
              "      <td>5</td>\n",
              "      <td>2022-08-06</td>\n",
              "      <td>couldn’t find anything wrong with AxA</td>\n",
              "      <td>Phone the old people are polite procedure easy...</td>\n",
              "    </tr>\n",
              "    <tr>\n",
              "      <th>19</th>\n",
              "      <td>5</td>\n",
              "      <td>2022-08-06</td>\n",
              "      <td>Effortless, thank you AXA</td>\n",
              "      <td>Easy process from start to finish. Nearly 50% ...</td>\n",
              "    </tr>\n",
              "  </tbody>\n",
              "</table>\n",
              "</div>\n",
              "      <button class=\"colab-df-convert\" onclick=\"convertToInteractive('df-8d545f02-bff1-4f64-8e3b-c52016643b17')\"\n",
              "              title=\"Convert this dataframe to an interactive table.\"\n",
              "              style=\"display:none;\">\n",
              "        \n",
              "  <svg xmlns=\"http://www.w3.org/2000/svg\" height=\"24px\"viewBox=\"0 0 24 24\"\n",
              "       width=\"24px\">\n",
              "    <path d=\"M0 0h24v24H0V0z\" fill=\"none\"/>\n",
              "    <path d=\"M18.56 5.44l.94 2.06.94-2.06 2.06-.94-2.06-.94-.94-2.06-.94 2.06-2.06.94zm-11 1L8.5 8.5l.94-2.06 2.06-.94-2.06-.94L8.5 2.5l-.94 2.06-2.06.94zm10 10l.94 2.06.94-2.06 2.06-.94-2.06-.94-.94-2.06-.94 2.06-2.06.94z\"/><path d=\"M17.41 7.96l-1.37-1.37c-.4-.4-.92-.59-1.43-.59-.52 0-1.04.2-1.43.59L10.3 9.45l-7.72 7.72c-.78.78-.78 2.05 0 2.83L4 21.41c.39.39.9.59 1.41.59.51 0 1.02-.2 1.41-.59l7.78-7.78 2.81-2.81c.8-.78.8-2.07 0-2.86zM5.41 20L4 18.59l7.72-7.72 1.47 1.35L5.41 20z\"/>\n",
              "  </svg>\n",
              "      </button>\n",
              "      \n",
              "  <style>\n",
              "    .colab-df-container {\n",
              "      display:flex;\n",
              "      flex-wrap:wrap;\n",
              "      gap: 12px;\n",
              "    }\n",
              "\n",
              "    .colab-df-convert {\n",
              "      background-color: #E8F0FE;\n",
              "      border: none;\n",
              "      border-radius: 50%;\n",
              "      cursor: pointer;\n",
              "      display: none;\n",
              "      fill: #1967D2;\n",
              "      height: 32px;\n",
              "      padding: 0 0 0 0;\n",
              "      width: 32px;\n",
              "    }\n",
              "\n",
              "    .colab-df-convert:hover {\n",
              "      background-color: #E2EBFA;\n",
              "      box-shadow: 0px 1px 2px rgba(60, 64, 67, 0.3), 0px 1px 3px 1px rgba(60, 64, 67, 0.15);\n",
              "      fill: #174EA6;\n",
              "    }\n",
              "\n",
              "    [theme=dark] .colab-df-convert {\n",
              "      background-color: #3B4455;\n",
              "      fill: #D2E3FC;\n",
              "    }\n",
              "\n",
              "    [theme=dark] .colab-df-convert:hover {\n",
              "      background-color: #434B5C;\n",
              "      box-shadow: 0px 1px 3px 1px rgba(0, 0, 0, 0.15);\n",
              "      filter: drop-shadow(0px 1px 2px rgba(0, 0, 0, 0.3));\n",
              "      fill: #FFFFFF;\n",
              "    }\n",
              "  </style>\n",
              "\n",
              "      <script>\n",
              "        const buttonEl =\n",
              "          document.querySelector('#df-8d545f02-bff1-4f64-8e3b-c52016643b17 button.colab-df-convert');\n",
              "        buttonEl.style.display =\n",
              "          google.colab.kernel.accessAllowed ? 'block' : 'none';\n",
              "\n",
              "        async function convertToInteractive(key) {\n",
              "          const element = document.querySelector('#df-8d545f02-bff1-4f64-8e3b-c52016643b17');\n",
              "          const dataTable =\n",
              "            await google.colab.kernel.invokeFunction('convertToInteractive',\n",
              "                                                     [key], {});\n",
              "          if (!dataTable) return;\n",
              "\n",
              "          const docLinkHtml = 'Like what you see? Visit the ' +\n",
              "            '<a target=\"_blank\" href=https://colab.research.google.com/notebooks/data_table.ipynb>data table notebook</a>'\n",
              "            + ' to learn more about interactive tables.';\n",
              "          element.innerHTML = '';\n",
              "          dataTable['output_type'] = 'display_data';\n",
              "          await google.colab.output.renderOutput(dataTable, element);\n",
              "          const docLink = document.createElement('div');\n",
              "          docLink.innerHTML = docLinkHtml;\n",
              "          element.appendChild(docLink);\n",
              "        }\n",
              "      </script>\n",
              "    </div>\n",
              "  </div>\n",
              "  "
            ]
          },
          "metadata": {},
          "execution_count": 15
        }
      ]
    },
    {
      "cell_type": "code",
      "source": [
        "df[1] = pd.to_datetime(df[1]) - pd.to_timedelta(7, unit='d')"
      ],
      "metadata": {
        "id": "dcygO4gMypTX"
      },
      "execution_count": 16,
      "outputs": []
    },
    {
      "cell_type": "markdown",
      "source": [
        "# Here the functions starts"
      ],
      "metadata": {
        "id": "1fQRvn1V9Vl8"
      }
    },
    {
      "cell_type": "code",
      "source": [
        "def df_creator(url):\n",
        "  \n",
        "  #reads the url for the first time\n",
        "  results=requests.get(url)\n",
        "  doc=BeautifulSoup(results.text, 'html.parser')\n",
        "  #Obtains the total of pages\n",
        "  pages=doc.find('a', {'name':'pagination-button-last'})\n",
        "  #total_pages=int(pages.string)\n",
        "\n",
        "  #add this string ?page= to be able to iterate through pages\n",
        "  new_url=url+'?page='\n",
        "  lista=[]\n",
        "  \n",
        "  for page in range(1,619+1):\n",
        "\n",
        "    \n",
        "    url_for_loop= new_url+str(page)\n",
        "    results=requests.get(url_for_loop)\n",
        "    doc=BeautifulSoup(results.text, 'html.parser')\n",
        "\n",
        "  #wrapers are the base of everything there is on content wrapper of class \"styles_reviewContentwrapper__zH_9M\n",
        "  #for every review and they nest rating, time, title and the review text\n",
        "    wrapers=doc.find_all('section',{'class':\"styles_reviewContentwrapper__zH_9M\"})\n",
        "    \n",
        "    \n",
        "    for i in range(len(wrapers)):\n",
        "      #this gets the rating wrapers[i].contents[0]['data-service-review-rating']\n",
        "      rating=int(wrapers[i].contents[0]['data-service-review-rating'])\n",
        "      #this gets the date\n",
        "      times_tag=wrapers[i].contents[0].contents[1].find('time')\n",
        "      time_string_long=times_tag['datetime']\n",
        "      time_string_regex=re.search(\"([0-9]{4}\\-[0-9]{2}\\-[0-9]{2})\", time_string_long)\n",
        "      time_string_short=time_string_regex[0]\n",
        "      date= datetime.fromisoformat(time_string_short).date()\n",
        "      #Review title\n",
        "      title=wrapers[i].contents[1].find('h2').text\n",
        "      #Review tex\n",
        "      if wrapers[i].contents[1].find('p'):\n",
        "\n",
        "        review=wrapers[i].contents[1].find('p').text\n",
        "      else:\n",
        "        review= None\n",
        "\n",
        "\n",
        "      data=[rating,date,title,review]\n",
        "\n",
        "      lista.append(data)\n",
        "    df=pd.DataFrame(lista)\n",
        "    df[1] = pd.to_datetime(df[1])\n",
        "\n",
        "  return df\n"
      ],
      "metadata": {
        "id": "a-PK4wa39U4I"
      },
      "execution_count": 17,
      "outputs": []
    },
    {
      "cell_type": "code",
      "source": [
        "## Use these dataframes for graphics\n",
        "df_axa=df_creator('https://www.trustpilot.com/review/www.axa.co.uk')"
      ],
      "metadata": {
        "id": "P9cRTeS89yOA",
        "outputId": "3d6c5f2e-9990-43fb-ca3c-2d392020838d",
        "colab": {
          "base_uri": "https://localhost:8080/",
          "height": 328
        }
      },
      "execution_count": 18,
      "outputs": [
        {
          "output_type": "error",
          "ename": "KeyboardInterrupt",
          "evalue": "ignored",
          "traceback": [
            "\u001b[0;31m---------------------------------------------------------------------------\u001b[0m",
            "\u001b[0;31mKeyboardInterrupt\u001b[0m                         Traceback (most recent call last)",
            "\u001b[0;32m<ipython-input-18-1ad863ea74ef>\u001b[0m in \u001b[0;36m<module>\u001b[0;34m()\u001b[0m\n\u001b[1;32m      1\u001b[0m \u001b[0;31m## Use these dataframes for graphics\u001b[0m\u001b[0;34m\u001b[0m\u001b[0;34m\u001b[0m\u001b[0;34m\u001b[0m\u001b[0m\n\u001b[0;32m----> 2\u001b[0;31m \u001b[0mdf_axa\u001b[0m\u001b[0;34m=\u001b[0m\u001b[0mdf_creator\u001b[0m\u001b[0;34m(\u001b[0m\u001b[0;34m'https://www.trustpilot.com/review/www.axa.co.uk'\u001b[0m\u001b[0;34m)\u001b[0m\u001b[0;34m\u001b[0m\u001b[0;34m\u001b[0m\u001b[0m\n\u001b[0m",
            "\u001b[0;32m<ipython-input-17-78dc909d8d9d>\u001b[0m in \u001b[0;36mdf_creator\u001b[0;34m(url)\u001b[0m\n\u001b[1;32m     17\u001b[0m     \u001b[0murl_for_loop\u001b[0m\u001b[0;34m=\u001b[0m \u001b[0mnew_url\u001b[0m\u001b[0;34m+\u001b[0m\u001b[0mstr\u001b[0m\u001b[0;34m(\u001b[0m\u001b[0mpage\u001b[0m\u001b[0;34m)\u001b[0m\u001b[0;34m\u001b[0m\u001b[0;34m\u001b[0m\u001b[0m\n\u001b[1;32m     18\u001b[0m     \u001b[0mresults\u001b[0m\u001b[0;34m=\u001b[0m\u001b[0mrequests\u001b[0m\u001b[0;34m.\u001b[0m\u001b[0mget\u001b[0m\u001b[0;34m(\u001b[0m\u001b[0murl_for_loop\u001b[0m\u001b[0;34m)\u001b[0m\u001b[0;34m\u001b[0m\u001b[0;34m\u001b[0m\u001b[0m\n\u001b[0;32m---> 19\u001b[0;31m     \u001b[0mdoc\u001b[0m\u001b[0;34m=\u001b[0m\u001b[0mBeautifulSoup\u001b[0m\u001b[0;34m(\u001b[0m\u001b[0mresults\u001b[0m\u001b[0;34m.\u001b[0m\u001b[0mtext\u001b[0m\u001b[0;34m,\u001b[0m \u001b[0;34m'html.parser'\u001b[0m\u001b[0;34m)\u001b[0m\u001b[0;34m\u001b[0m\u001b[0;34m\u001b[0m\u001b[0m\n\u001b[0m\u001b[1;32m     20\u001b[0m \u001b[0;34m\u001b[0m\u001b[0m\n\u001b[1;32m     21\u001b[0m   \u001b[0;31m#wrapers are the base of everything there is on content wrapper of class \"styles_reviewContentwrapper__zH_9M\u001b[0m\u001b[0;34m\u001b[0m\u001b[0;34m\u001b[0m\u001b[0;34m\u001b[0m\u001b[0m\n",
            "\u001b[0;32m/usr/local/lib/python3.7/dist-packages/bs4/__init__.py\u001b[0m in \u001b[0;36m__init__\u001b[0;34m(self, markup, features, builder, parse_only, from_encoding, exclude_encodings, **kwargs)\u001b[0m\n\u001b[1;32m    280\u001b[0m             \u001b[0mself\u001b[0m\u001b[0;34m.\u001b[0m\u001b[0mreset\u001b[0m\u001b[0;34m(\u001b[0m\u001b[0;34m)\u001b[0m\u001b[0;34m\u001b[0m\u001b[0;34m\u001b[0m\u001b[0m\n\u001b[1;32m    281\u001b[0m             \u001b[0;32mtry\u001b[0m\u001b[0;34m:\u001b[0m\u001b[0;34m\u001b[0m\u001b[0;34m\u001b[0m\u001b[0m\n\u001b[0;32m--> 282\u001b[0;31m                 \u001b[0mself\u001b[0m\u001b[0;34m.\u001b[0m\u001b[0m_feed\u001b[0m\u001b[0;34m(\u001b[0m\u001b[0;34m)\u001b[0m\u001b[0;34m\u001b[0m\u001b[0;34m\u001b[0m\u001b[0m\n\u001b[0m\u001b[1;32m    283\u001b[0m                 \u001b[0;32mbreak\u001b[0m\u001b[0;34m\u001b[0m\u001b[0;34m\u001b[0m\u001b[0m\n\u001b[1;32m    284\u001b[0m             \u001b[0;32mexcept\u001b[0m \u001b[0mParserRejectedMarkup\u001b[0m\u001b[0;34m:\u001b[0m\u001b[0;34m\u001b[0m\u001b[0;34m\u001b[0m\u001b[0m\n",
            "\u001b[0;32m/usr/local/lib/python3.7/dist-packages/bs4/__init__.py\u001b[0m in \u001b[0;36m_feed\u001b[0;34m(self)\u001b[0m\n\u001b[1;32m    341\u001b[0m         \u001b[0mself\u001b[0m\u001b[0;34m.\u001b[0m\u001b[0mbuilder\u001b[0m\u001b[0;34m.\u001b[0m\u001b[0mreset\u001b[0m\u001b[0;34m(\u001b[0m\u001b[0;34m)\u001b[0m\u001b[0;34m\u001b[0m\u001b[0;34m\u001b[0m\u001b[0m\n\u001b[1;32m    342\u001b[0m \u001b[0;34m\u001b[0m\u001b[0m\n\u001b[0;32m--> 343\u001b[0;31m         \u001b[0mself\u001b[0m\u001b[0;34m.\u001b[0m\u001b[0mbuilder\u001b[0m\u001b[0;34m.\u001b[0m\u001b[0mfeed\u001b[0m\u001b[0;34m(\u001b[0m\u001b[0mself\u001b[0m\u001b[0;34m.\u001b[0m\u001b[0mmarkup\u001b[0m\u001b[0;34m)\u001b[0m\u001b[0;34m\u001b[0m\u001b[0;34m\u001b[0m\u001b[0m\n\u001b[0m\u001b[1;32m    344\u001b[0m         \u001b[0;31m# Close out any unfinished strings and close all the open tags.\u001b[0m\u001b[0;34m\u001b[0m\u001b[0;34m\u001b[0m\u001b[0;34m\u001b[0m\u001b[0m\n\u001b[1;32m    345\u001b[0m         \u001b[0mself\u001b[0m\u001b[0;34m.\u001b[0m\u001b[0mendData\u001b[0m\u001b[0;34m(\u001b[0m\u001b[0;34m)\u001b[0m\u001b[0;34m\u001b[0m\u001b[0;34m\u001b[0m\u001b[0m\n",
            "\u001b[0;32m/usr/local/lib/python3.7/dist-packages/bs4/builder/_htmlparser.py\u001b[0m in \u001b[0;36mfeed\u001b[0;34m(self, markup)\u001b[0m\n\u001b[1;32m    245\u001b[0m         \u001b[0mparser\u001b[0m\u001b[0;34m.\u001b[0m\u001b[0msoup\u001b[0m \u001b[0;34m=\u001b[0m \u001b[0mself\u001b[0m\u001b[0;34m.\u001b[0m\u001b[0msoup\u001b[0m\u001b[0;34m\u001b[0m\u001b[0;34m\u001b[0m\u001b[0m\n\u001b[1;32m    246\u001b[0m         \u001b[0;32mtry\u001b[0m\u001b[0;34m:\u001b[0m\u001b[0;34m\u001b[0m\u001b[0;34m\u001b[0m\u001b[0m\n\u001b[0;32m--> 247\u001b[0;31m             \u001b[0mparser\u001b[0m\u001b[0;34m.\u001b[0m\u001b[0mfeed\u001b[0m\u001b[0;34m(\u001b[0m\u001b[0mmarkup\u001b[0m\u001b[0;34m)\u001b[0m\u001b[0;34m\u001b[0m\u001b[0;34m\u001b[0m\u001b[0m\n\u001b[0m\u001b[1;32m    248\u001b[0m             \u001b[0mparser\u001b[0m\u001b[0;34m.\u001b[0m\u001b[0mclose\u001b[0m\u001b[0;34m(\u001b[0m\u001b[0;34m)\u001b[0m\u001b[0;34m\u001b[0m\u001b[0;34m\u001b[0m\u001b[0m\n\u001b[1;32m    249\u001b[0m         \u001b[0;32mexcept\u001b[0m \u001b[0mHTMLParseError\u001b[0m \u001b[0;32mas\u001b[0m \u001b[0me\u001b[0m\u001b[0;34m:\u001b[0m\u001b[0;34m\u001b[0m\u001b[0;34m\u001b[0m\u001b[0m\n",
            "\u001b[0;32m/usr/lib/python3.7/html/parser.py\u001b[0m in \u001b[0;36mfeed\u001b[0;34m(self, data)\u001b[0m\n\u001b[1;32m    109\u001b[0m         \"\"\"\n\u001b[1;32m    110\u001b[0m         \u001b[0mself\u001b[0m\u001b[0;34m.\u001b[0m\u001b[0mrawdata\u001b[0m \u001b[0;34m=\u001b[0m \u001b[0mself\u001b[0m\u001b[0;34m.\u001b[0m\u001b[0mrawdata\u001b[0m \u001b[0;34m+\u001b[0m \u001b[0mdata\u001b[0m\u001b[0;34m\u001b[0m\u001b[0;34m\u001b[0m\u001b[0m\n\u001b[0;32m--> 111\u001b[0;31m         \u001b[0mself\u001b[0m\u001b[0;34m.\u001b[0m\u001b[0mgoahead\u001b[0m\u001b[0;34m(\u001b[0m\u001b[0;36m0\u001b[0m\u001b[0;34m)\u001b[0m\u001b[0;34m\u001b[0m\u001b[0;34m\u001b[0m\u001b[0m\n\u001b[0m\u001b[1;32m    112\u001b[0m \u001b[0;34m\u001b[0m\u001b[0m\n\u001b[1;32m    113\u001b[0m     \u001b[0;32mdef\u001b[0m \u001b[0mclose\u001b[0m\u001b[0;34m(\u001b[0m\u001b[0mself\u001b[0m\u001b[0;34m)\u001b[0m\u001b[0;34m:\u001b[0m\u001b[0;34m\u001b[0m\u001b[0;34m\u001b[0m\u001b[0m\n",
            "\u001b[0;32m/usr/lib/python3.7/html/parser.py\u001b[0m in \u001b[0;36mgoahead\u001b[0;34m(self, end)\u001b[0m\n\u001b[1;32m    169\u001b[0m             \u001b[0;32mif\u001b[0m \u001b[0mstartswith\u001b[0m\u001b[0;34m(\u001b[0m\u001b[0;34m'<'\u001b[0m\u001b[0;34m,\u001b[0m \u001b[0mi\u001b[0m\u001b[0;34m)\u001b[0m\u001b[0;34m:\u001b[0m\u001b[0;34m\u001b[0m\u001b[0;34m\u001b[0m\u001b[0m\n\u001b[1;32m    170\u001b[0m                 \u001b[0;32mif\u001b[0m \u001b[0mstarttagopen\u001b[0m\u001b[0;34m.\u001b[0m\u001b[0mmatch\u001b[0m\u001b[0;34m(\u001b[0m\u001b[0mrawdata\u001b[0m\u001b[0;34m,\u001b[0m \u001b[0mi\u001b[0m\u001b[0;34m)\u001b[0m\u001b[0;34m:\u001b[0m \u001b[0;31m# < + letter\u001b[0m\u001b[0;34m\u001b[0m\u001b[0;34m\u001b[0m\u001b[0m\n\u001b[0;32m--> 171\u001b[0;31m                     \u001b[0mk\u001b[0m \u001b[0;34m=\u001b[0m \u001b[0mself\u001b[0m\u001b[0;34m.\u001b[0m\u001b[0mparse_starttag\u001b[0m\u001b[0;34m(\u001b[0m\u001b[0mi\u001b[0m\u001b[0;34m)\u001b[0m\u001b[0;34m\u001b[0m\u001b[0;34m\u001b[0m\u001b[0m\n\u001b[0m\u001b[1;32m    172\u001b[0m                 \u001b[0;32melif\u001b[0m \u001b[0mstartswith\u001b[0m\u001b[0;34m(\u001b[0m\u001b[0;34m\"</\"\u001b[0m\u001b[0;34m,\u001b[0m \u001b[0mi\u001b[0m\u001b[0;34m)\u001b[0m\u001b[0;34m:\u001b[0m\u001b[0;34m\u001b[0m\u001b[0;34m\u001b[0m\u001b[0m\n\u001b[1;32m    173\u001b[0m                     \u001b[0mk\u001b[0m \u001b[0;34m=\u001b[0m \u001b[0mself\u001b[0m\u001b[0;34m.\u001b[0m\u001b[0mparse_endtag\u001b[0m\u001b[0;34m(\u001b[0m\u001b[0mi\u001b[0m\u001b[0;34m)\u001b[0m\u001b[0;34m\u001b[0m\u001b[0;34m\u001b[0m\u001b[0m\n",
            "\u001b[0;32m/usr/lib/python3.7/html/parser.py\u001b[0m in \u001b[0;36mparse_starttag\u001b[0;34m(self, i)\u001b[0m\n\u001b[1;32m    314\u001b[0m         \u001b[0mself\u001b[0m\u001b[0;34m.\u001b[0m\u001b[0mlasttag\u001b[0m \u001b[0;34m=\u001b[0m \u001b[0mtag\u001b[0m \u001b[0;34m=\u001b[0m \u001b[0mmatch\u001b[0m\u001b[0;34m.\u001b[0m\u001b[0mgroup\u001b[0m\u001b[0;34m(\u001b[0m\u001b[0;36m1\u001b[0m\u001b[0;34m)\u001b[0m\u001b[0;34m.\u001b[0m\u001b[0mlower\u001b[0m\u001b[0;34m(\u001b[0m\u001b[0;34m)\u001b[0m\u001b[0;34m\u001b[0m\u001b[0;34m\u001b[0m\u001b[0m\n\u001b[1;32m    315\u001b[0m         \u001b[0;32mwhile\u001b[0m \u001b[0mk\u001b[0m \u001b[0;34m<\u001b[0m \u001b[0mendpos\u001b[0m\u001b[0;34m:\u001b[0m\u001b[0;34m\u001b[0m\u001b[0;34m\u001b[0m\u001b[0m\n\u001b[0;32m--> 316\u001b[0;31m             \u001b[0mm\u001b[0m \u001b[0;34m=\u001b[0m \u001b[0mattrfind_tolerant\u001b[0m\u001b[0;34m.\u001b[0m\u001b[0mmatch\u001b[0m\u001b[0;34m(\u001b[0m\u001b[0mrawdata\u001b[0m\u001b[0;34m,\u001b[0m \u001b[0mk\u001b[0m\u001b[0;34m)\u001b[0m\u001b[0;34m\u001b[0m\u001b[0;34m\u001b[0m\u001b[0m\n\u001b[0m\u001b[1;32m    317\u001b[0m             \u001b[0;32mif\u001b[0m \u001b[0;32mnot\u001b[0m \u001b[0mm\u001b[0m\u001b[0;34m:\u001b[0m\u001b[0;34m\u001b[0m\u001b[0;34m\u001b[0m\u001b[0m\n\u001b[1;32m    318\u001b[0m                 \u001b[0;32mbreak\u001b[0m\u001b[0;34m\u001b[0m\u001b[0;34m\u001b[0m\u001b[0m\n",
            "\u001b[0;31mKeyboardInterrupt\u001b[0m: "
          ]
        }
      ]
    },
    {
      "cell_type": "code",
      "source": [
        "df_axa.columns"
      ],
      "metadata": {
        "id": "gkj4irCXOJ-z"
      },
      "execution_count": null,
      "outputs": []
    },
    {
      "cell_type": "code",
      "source": [
        "df_axa"
      ],
      "metadata": {
        "id": "KJI-YpYi1pu8"
      },
      "execution_count": null,
      "outputs": []
    },
    {
      "cell_type": "code",
      "source": [
        "df_frontier=df_creator('https://www.trustpilot.com/review/frontierinsurance.co.uk')"
      ],
      "metadata": {
        "id": "6QhnasWJkxX4"
      },
      "execution_count": null,
      "outputs": []
    },
    {
      "cell_type": "code",
      "source": [
        "df_admiral=df_creator('https://www.trustpilot.com/review/www.admiral.com')"
      ],
      "metadata": {
        "id": "dQasAcyNlmw2"
      },
      "execution_count": null,
      "outputs": []
    },
    {
      "cell_type": "markdown",
      "source": [
        "## Saving dataframes to csv files"
      ],
      "metadata": {
        "id": "5AaRc_lCpLW2"
      }
    },
    {
      "cell_type": "code",
      "source": [
        "df_axa.to_csv('df_axa.csv')\n",
        "df_frontier.to_csv('df_frontier.csv')\n",
        "df_admiral.to_csv('df_admiral.csv')\n"
      ],
      "metadata": {
        "id": "YgJ3_y1gpcID"
      },
      "execution_count": null,
      "outputs": []
    },
    {
      "cell_type": "markdown",
      "source": [
        "## Read CSV files"
      ],
      "metadata": {
        "id": "ul0FLCbsLkH8"
      }
    },
    {
      "cell_type": "code",
      "source": [
        "df_axa=pd.read_csv('df_axa.csv')\n",
        "df_frontier=pd.read_csv('df_frontier.csv')\n",
        "df_admiral=pd.read_csv('df_admiral.csv')"
      ],
      "metadata": {
        "id": "3AmQo5TELjau"
      },
      "execution_count": null,
      "outputs": []
    },
    {
      "cell_type": "code",
      "source": [
        "# df_axa.drop('Unnamed: 0')\n",
        "# df_frontier.drop('Unnamed: 0')\n",
        "# df_admiral.drop('Unnamed: 0')"
      ],
      "metadata": {
        "id": "NCLIkJAdMK5o"
      },
      "execution_count": null,
      "outputs": []
    },
    {
      "cell_type": "markdown",
      "source": [
        "## Getting interesting data\n",
        "\n",
        "\n",
        "1.   Rate average\n",
        "2.   Comments per day\n",
        "1.   Comments per week\n",
        "2.   Date of the last comment\n",
        "1.   Date of the first \n",
        "\n",
        "\n",
        "\n",
        "\n",
        "\n",
        "\n",
        "\n",
        "\n"
      ],
      "metadata": {
        "id": "9PHIufu5oLFn"
      }
    },
    {
      "cell_type": "code",
      "source": [
        "#Axa\n",
        "def summary_creator(df):\n",
        "  rate_average=df[0].mean()\n",
        "  avarage_comments_day=df.groupby([pd.Grouper(key=1, freq='d')]).count()[3].mean()\n",
        "  avarage_comments_week=df.groupby([pd.Grouper(key=1, freq='W')]).count()[3].mean()\n",
        "  date_of_last_comment=df[1].max()\n",
        "  date_of_first_comment=df[1].min()\n",
        "  #total_reviews=df.shape[0]\n",
        "\n",
        "  print(f'''Average rate is {rate_average}\n",
        "  Average review per day is {avarage_comments_day}\n",
        "  Average review per week is {avarage_comments_week}\n",
        "  Last review was posted on {date_of_last_comment})\n",
        "  First review was posted on {date_of_first_comment}''')\n",
        "\n",
        "  return rate_average, avarage_comments_day, avarage_comments_week\n"
      ],
      "metadata": {
        "id": "W1lUH3b4pw8T"
      },
      "execution_count": null,
      "outputs": []
    },
    {
      "cell_type": "code",
      "source": [
        "axa_rate_average, axa_avarage_comments_day, axa_avarage_comments_week=summary_creator(df_axa)"
      ],
      "metadata": {
        "id": "_jZGt282vtKa"
      },
      "execution_count": null,
      "outputs": []
    },
    {
      "cell_type": "code",
      "source": [
        "frontier_rate_average, frontier_avarage_comments_day, frontier_avarage_comments_week=summary_creator(df_frontier)"
      ],
      "metadata": {
        "id": "BjH5BeGmv9a2"
      },
      "execution_count": null,
      "outputs": []
    },
    {
      "cell_type": "code",
      "source": [
        "admiral_rate_average, admiral_avarage_comments_day, admiral_avarage_comments_week=summary_creator(df_admiral)"
      ],
      "metadata": {
        "id": "3U9T5nUqoJk0"
      },
      "execution_count": null,
      "outputs": []
    },
    {
      "cell_type": "code",
      "source": [
        "general_info=[[axa_rate_average, axa_avarage_comments_day, axa_avarage_comments_week],\n",
        "              [frontier_rate_average, frontier_avarage_comments_day, frontier_avarage_comments_week],\n",
        "              [admiral_rate_average, admiral_avarage_comments_day, admiral_avarage_comments_week]]"
      ],
      "metadata": {
        "id": "SYYLsl0Ia52B"
      },
      "execution_count": null,
      "outputs": []
    },
    {
      "cell_type": "code",
      "source": [
        "general_info_df=pd.DataFrame(general_info, columns=[['Rate', 'Comments per day(avg)', 'Comments per week(avg)']], index=['AXA','Frontier','Admiral'])\n",
        "\n",
        "#, index=[['AXA','Frontier','Admiral']]\n",
        "general_info_df"
      ],
      "metadata": {
        "id": "b3ZB-r8Dbc4N"
      },
      "execution_count": null,
      "outputs": []
    },
    {
      "cell_type": "code",
      "source": [
        "plt.figure(figsize=(5, 5))\n",
        "barchart=plt.bar(general_info_df.index,general_info_df['Rate'].squeeze())\n",
        "plt.ylabel('Rating',  fontsize=14)\n",
        "plt.title('Axa and competitors rating',  fontsize=18)\n",
        "barchart[0].set_color('mediumseagreen')\n",
        "barchart[1].set_color('paleturquoise')\n",
        "barchart[2].set_color('plum')\n",
        "plt.show()"
      ],
      "metadata": {
        "id": "wpw-gwvVcU4C"
      },
      "execution_count": null,
      "outputs": []
    },
    {
      "cell_type": "code",
      "source": [
        "plt.figure(figsize=(5, 5))\n",
        "barchart=plt.bar(general_info_df.index,general_info_df['Comments per day(avg)'].squeeze())\n",
        "plt.ylabel('Reviews per day(avg)',  fontsize=14)\n",
        "plt.title('Axa and competitors reviews per day',  fontsize=18)\n",
        "barchart[0].set_color('mediumseagreen')\n",
        "barchart[1].set_color('paleturquoise')\n",
        "barchart[2].set_color('plum')\n",
        "plt.show()"
      ],
      "metadata": {
        "id": "BJKAxYn4iuzT"
      },
      "execution_count": null,
      "outputs": []
    },
    {
      "cell_type": "code",
      "source": [
        "plt.figure(figsize=(5, 5))\n",
        "barchart=plt.bar(general_info_df.index,general_info_df['Comments per week(avg)'].squeeze())\n",
        "plt.ylabel('Reviews per week(avg)',  fontsize=14)\n",
        "plt.title('Axa and competitors reviews per week',  fontsize=18)\n",
        "barchart[0].set_color('mediumseagreen')\n",
        "barchart[1].set_color('paleturquoise')\n",
        "barchart[2].set_color('plum')\n",
        "plt.show()"
      ],
      "metadata": {
        "id": "noHQECXUi_tW"
      },
      "execution_count": null,
      "outputs": []
    },
    {
      "cell_type": "code",
      "source": [
        "# axa3[1] = pd.to_datetime(axa3[1])\n",
        "# # axa3[1] = pd.to_datetime(axa3[1]) - pd.to_timedelta(7, unit='d')\n"
      ],
      "metadata": {
        "id": "iYIryDQohoEf"
      },
      "execution_count": null,
      "outputs": []
    },
    {
      "cell_type": "code",
      "source": [
        "# plt.figure(figsize=(10, 5))\n",
        "# plt.plot(axa3.groupby([pd.Grouper(key=1, freq='M')])[0].mean())\n",
        "# plt.show()"
      ],
      "metadata": {
        "id": "KPiA1KWViTGt"
      },
      "execution_count": null,
      "outputs": []
    },
    {
      "cell_type": "markdown",
      "source": [
        "Grouping and plotting"
      ],
      "metadata": {
        "id": "OXk7mgLffwEz"
      }
    },
    {
      "cell_type": "code",
      "source": [
        "# This is for grouping by week (can be adjusted to month)\n",
        "# df.groupby([pd.Grouper(key=1, freq='W')])[0].mean()\n",
        "#This needs to be done before grouping by date!!!!\n",
        "# df_axa[1] = pd.to_datetime(df_axa[1]) - pd.to_timedelta(7, unit='d')\n"
      ],
      "metadata": {
        "id": "trZ1qXeedazn"
      },
      "execution_count": null,
      "outputs": []
    },
    {
      "cell_type": "code",
      "source": [
        "\n",
        "plt.figure(figsize=(10, 5))\n",
        "plt.plot(df_axa.groupby([pd.Grouper(key=1, freq='M')])[0].mean(), label='AXA', color='mediumseagreen')\n",
        "plt.plot(df_admiral.groupby([pd.Grouper(key=1, freq='M')])[0].mean(), label='Admiral', color='plum')\n",
        "plt.plot(df_frontier.groupby([pd.Grouper(key=1, freq='M')])[0].mean(), label='Frontier', color='paleturquoise')\n",
        "plt.title('Rating behaviour by Month',  fontsize=18)\n",
        "plt.ylabel('Rating',  fontsize=14)\n",
        "plt.grid()\n",
        "plt.legend()\n",
        "\n",
        "plt.show()"
      ],
      "metadata": {
        "id": "ao2B6lATz_qx"
      },
      "execution_count": null,
      "outputs": []
    }
  ]
}