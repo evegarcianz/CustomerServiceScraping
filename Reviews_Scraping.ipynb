{
  "nbformat": 4,
  "nbformat_minor": 0,
  "metadata": {
    "colab": {
      "name": "Reviews_Scraping.ipynb",
      "provenance": []
    },
    "kernelspec": {
      "name": "python3",
      "display_name": "Python 3"
    },
    "language_info": {
      "name": "python"
    }
  },
  "cells": [
    {
      "cell_type": "code",
      "execution_count": 17,
      "metadata": {
        "colab": {
          "base_uri": "https://localhost:8080/"
        },
        "id": "-hYKnBXiBAQR",
        "outputId": "fb14795d-d8ab-4580-ae6f-b97621f2ba3a"
      },
      "outputs": [
        {
          "output_type": "stream",
          "name": "stdout",
          "text": [
            "Looking in indexes: https://pypi.org/simple, https://us-python.pkg.dev/colab-wheels/public/simple/\n",
            "Requirement already satisfied: beautifulsoup4 in /usr/local/lib/python3.7/dist-packages (4.6.3)\n"
          ]
        }
      ],
      "source": [
        "!pip install beautifulsoup4"
      ]
    },
    {
      "cell_type": "code",
      "source": [
        "!pip install requests"
      ],
      "metadata": {
        "colab": {
          "base_uri": "https://localhost:8080/"
        },
        "id": "AR2nG_uIBQ-C",
        "outputId": "1cea1c25-5ab6-44b0-fb5c-6d320f57745e"
      },
      "execution_count": 18,
      "outputs": [
        {
          "output_type": "stream",
          "name": "stdout",
          "text": [
            "Looking in indexes: https://pypi.org/simple, https://us-python.pkg.dev/colab-wheels/public/simple/\n",
            "Requirement already satisfied: requests in /usr/local/lib/python3.7/dist-packages (2.23.0)\n",
            "Requirement already satisfied: chardet<4,>=3.0.2 in /usr/local/lib/python3.7/dist-packages (from requests) (3.0.4)\n",
            "Requirement already satisfied: urllib3!=1.25.0,!=1.25.1,<1.26,>=1.21.1 in /usr/local/lib/python3.7/dist-packages (from requests) (1.24.3)\n",
            "Requirement already satisfied: certifi>=2017.4.17 in /usr/local/lib/python3.7/dist-packages (from requests) (2022.6.15)\n",
            "Requirement already satisfied: idna<3,>=2.5 in /usr/local/lib/python3.7/dist-packages (from requests) (2.10)\n"
          ]
        }
      ]
    },
    {
      "cell_type": "code",
      "source": [
        "from bs4 import BeautifulSoup\n",
        "import requests\n",
        "import re\n",
        "from datetime import datetime\n",
        "import pandas as pd"
      ],
      "metadata": {
        "id": "9769CymEKPg4"
      },
      "execution_count": 19,
      "outputs": []
    },
    {
      "cell_type": "code",
      "source": [
        "#This first URL is to obtain the total of pages we will iterate through\n",
        "#'https://www.trustpilot.com/review/www.axa.co.uk and https://www.trustpilot.com/review/www.axa.co.uk?page=1 work exactly the same '\n",
        "url= 'https://www.trustpilot.com/review/www.axa.co.uk?page=1'\n",
        "results=requests.get(url)\n",
        "doc=BeautifulSoup(results.text, 'html.parser')\n",
        "\n",
        "#Obtains the total of pages\n",
        "pages=doc.find('a', {'name':'pagination-button-last'})\n",
        "total_pages=int(pages.string)\n",
        "\n"
      ],
      "metadata": {
        "id": "T3BYS1YLHoFc"
      },
      "execution_count": 20,
      "outputs": []
    },
    {
      "cell_type": "markdown",
      "source": [
        "## Obtaining reviews paragraphs"
      ],
      "metadata": {
        "id": "i3CL2oxVdL-r"
      }
    },
    {
      "cell_type": "code",
      "source": [
        "#Only the paragraphs belonging to the correct class reviews\n",
        "#paragraphs2=doc.find_all('p',{'class':\"typography_typography__QgicV typography_body__9UBeQ typography_color-black__5LYEn typography_weight-regular__TWEnf typography_fontstyle-normal__kHyN3\"})\n"
      ],
      "metadata": {
        "id": "Je8ZFfCuQvzh"
      },
      "execution_count": 21,
      "outputs": []
    },
    {
      "cell_type": "code",
      "source": [
        "#text for obtaining the text even if it has breaks <br>\n",
        "#if I use .string instead of .text returns None when <br> present\n",
        "# for para in paragraphs2:\n",
        "#   print(para.text)"
      ],
      "metadata": {
        "id": "S_ySkVoIQ2V3"
      },
      "execution_count": 22,
      "outputs": []
    },
    {
      "cell_type": "markdown",
      "source": [
        "## Obtaining the date of the reviews"
      ],
      "metadata": {
        "id": "E2RWYf0ydWt3"
      }
    },
    {
      "cell_type": "code",
      "source": [
        "# dates=doc.find_all('time')\n",
        "# len(dates)"
      ],
      "metadata": {
        "id": "FPJCAtTzdBjf"
      },
      "execution_count": 23,
      "outputs": []
    },
    {
      "cell_type": "markdown",
      "source": [
        "## Obtaining data by descendants"
      ],
      "metadata": {
        "id": "2rwAtsvnbLSz"
      }
    },
    {
      "cell_type": "code",
      "source": [
        "# section=doc.find('section',{'class':\"styles_reviewsContainer__3_GQw\"})\n",
        "\n",
        "## Should iterate through these articles\n",
        "# articles=doc.find_all('article',{'class':\"paper_paper__1PY90 paper_square__lJX8a card_card__lQWDv styles_reviewCard__hcAvl\"})\n",
        "# articles=doc.find_all('article',{'class':\"paper_paper__1PY90 paper_square__lJX8a card_card__lQWDv styles_reviewCard__hcAvl styles_raised__HxiOi\"})\n",
        "\n",
        "#wrapers are the base, they are the containers of the reviews\n",
        "\n"
      ],
      "metadata": {
        "id": "HG98hqC6bscJ"
      },
      "execution_count": 24,
      "outputs": []
    },
    {
      "cell_type": "code",
      "source": [
        "## Obtaining date\n",
        "# times=wrapers[0].contents[0].contents[1].find('time')\n",
        "# t=times['datetime']\n",
        "# fecha=re.search(\"([0-9]{4}\\-[0-9]{2}\\-[0-9]{2})\", t)\n",
        "# fecha[0]\n",
        "# print (datetime.fromisoformat(fecha[0]).date())"
      ],
      "metadata": {
        "id": "z4V80bfvm4SY"
      },
      "execution_count": 25,
      "outputs": []
    },
    {
      "cell_type": "code",
      "source": [
        "# for w in wrapers[3].contents[1]:\n",
        "#   print(w)\n"
      ],
      "metadata": {
        "id": "IjOEesRNup9Y"
      },
      "execution_count": 26,
      "outputs": []
    },
    {
      "cell_type": "code",
      "source": [
        "# wrapers[3].contents[1].find('p').text"
      ],
      "metadata": {
        "id": "a7P6-Se_wVzN"
      },
      "execution_count": 27,
      "outputs": []
    },
    {
      "cell_type": "code",
      "source": [
        "# for page in range(total_pages):\n",
        "lista=[]\n",
        "for page in range(1,total_pages+1):\n",
        "  #print(f'this is page{page}')\n",
        "\n",
        "\n",
        "  url= f'https://www.trustpilot.com/review/www.axa.co.uk?page={page}'\n",
        "  results=requests.get(url)\n",
        "  doc=BeautifulSoup(results.text, 'html.parser')\n",
        "\n",
        "#wrapers are the base of everything there is on content wrapper of class \"styles_reviewContentwrapper__zH_9M\n",
        "#for every review and they nest rating, time, title and the review text\n",
        "  wrapers=doc.find_all('section',{'class':\"styles_reviewContentwrapper__zH_9M\"})\n",
        "  \n",
        "  \n",
        "  for i in range(len(wrapers)):\n",
        "    #this gets the rating wrapers[i].contents[0]['data-service-review-rating']\n",
        "    rating=int(wrapers[i].contents[0]['data-service-review-rating'])\n",
        "    #this gets the date\n",
        "    times_tag=wrapers[i].contents[0].contents[1].find('time')\n",
        "    time_string_long=times_tag['datetime']\n",
        "    time_string_regex=re.search(\"([0-9]{4}\\-[0-9]{2}\\-[0-9]{2})\", time_string_long)\n",
        "    time_string_short=time_string_regex[0]\n",
        "    date= datetime.fromisoformat(time_string_short).date()\n",
        "    #Review title\n",
        "    title=wrapers[i].contents[1].find('h2').text\n",
        "    #Review tex\n",
        "    if wrapers[i].contents[1].find('p'):\n",
        "      review=wrapers[i].contents[1].find('p').text\n",
        "    else:\n",
        "      review= None\n",
        "\n",
        "\n",
        "    data=[rating,date,title,review]\n",
        "\n",
        "    lista.append(data) \n",
        "  \n",
        "# lista"
      ],
      "metadata": {
        "id": "PUrKE3wflcML"
      },
      "execution_count": 28,
      "outputs": []
    },
    {
      "cell_type": "code",
      "source": [
        "df=pd.DataFrame(lista, columns=[['rating','date','title','review']])\n",
        "df"
      ],
      "metadata": {
        "colab": {
          "base_uri": "https://localhost:8080/",
          "height": 424
        },
        "id": "5kiHnLXMyQBs",
        "outputId": "802d4d32-fafd-40a6-fd10-d4a7f970f3d5"
      },
      "execution_count": 29,
      "outputs": [
        {
          "output_type": "execute_result",
          "data": {
            "text/plain": [
              "     rating        date                                    title  \\\n",
              "0         5  2022-07-30                  The Lady that helped us   \n",
              "1         5  2022-07-30                     All done on my phone   \n",
              "2         5  2022-07-30          It was easy & excellent service   \n",
              "3         4  2022-07-30       I would have given 5 stars as the…   \n",
              "4         5  2022-07-30        simple application form for home…   \n",
              "...     ...         ...                                      ...   \n",
              "3335      5  2021-12-23     Had to change some details on policy   \n",
              "3336      5  2021-12-23  AXA have and remain a pleasure to deal…   \n",
              "3337      4  2021-12-23    Great price great cover just a shame…   \n",
              "3338      5  2021-12-23                   Extremely easy company   \n",
              "3339      5  2021-12-23   Efficient service with value for money   \n",
              "\n",
              "                                                 review  \n",
              "0     The Lady that helped us change our policy deta...  \n",
              "1                  All done on my phone. Nice and easy.  \n",
              "2     It was easy & excellent service.  Informative ...  \n",
              "3     I would have given 5 stars as the person was v...  \n",
              "4     simple application form for home insurance onl...  \n",
              "...                                                 ...  \n",
              "3335  Had to change some details on policy, staff we...  \n",
              "3336        AXA have and remain a pleasure to deal with  \n",
              "3337  Great price great cover just a shame they don'...  \n",
              "3338  Extremely easy company, app to use. Updating a...  \n",
              "3339                                               None  \n",
              "\n",
              "[3340 rows x 4 columns]"
            ],
            "text/html": [
              "\n",
              "  <div id=\"df-f9afd459-d66c-48eb-8703-767b6bb30d03\">\n",
              "    <div class=\"colab-df-container\">\n",
              "      <div>\n",
              "<style scoped>\n",
              "    .dataframe tbody tr th:only-of-type {\n",
              "        vertical-align: middle;\n",
              "    }\n",
              "\n",
              "    .dataframe tbody tr th {\n",
              "        vertical-align: top;\n",
              "    }\n",
              "\n",
              "    .dataframe thead tr th {\n",
              "        text-align: left;\n",
              "    }\n",
              "</style>\n",
              "<table border=\"1\" class=\"dataframe\">\n",
              "  <thead>\n",
              "    <tr>\n",
              "      <th></th>\n",
              "      <th>rating</th>\n",
              "      <th>date</th>\n",
              "      <th>title</th>\n",
              "      <th>review</th>\n",
              "    </tr>\n",
              "  </thead>\n",
              "  <tbody>\n",
              "    <tr>\n",
              "      <th>0</th>\n",
              "      <td>5</td>\n",
              "      <td>2022-07-30</td>\n",
              "      <td>The Lady that helped us</td>\n",
              "      <td>The Lady that helped us change our policy deta...</td>\n",
              "    </tr>\n",
              "    <tr>\n",
              "      <th>1</th>\n",
              "      <td>5</td>\n",
              "      <td>2022-07-30</td>\n",
              "      <td>All done on my phone</td>\n",
              "      <td>All done on my phone. Nice and easy.</td>\n",
              "    </tr>\n",
              "    <tr>\n",
              "      <th>2</th>\n",
              "      <td>5</td>\n",
              "      <td>2022-07-30</td>\n",
              "      <td>It was easy &amp; excellent service</td>\n",
              "      <td>It was easy &amp; excellent service.  Informative ...</td>\n",
              "    </tr>\n",
              "    <tr>\n",
              "      <th>3</th>\n",
              "      <td>4</td>\n",
              "      <td>2022-07-30</td>\n",
              "      <td>I would have given 5 stars as the…</td>\n",
              "      <td>I would have given 5 stars as the person was v...</td>\n",
              "    </tr>\n",
              "    <tr>\n",
              "      <th>4</th>\n",
              "      <td>5</td>\n",
              "      <td>2022-07-30</td>\n",
              "      <td>simple application form for home…</td>\n",
              "      <td>simple application form for home insurance onl...</td>\n",
              "    </tr>\n",
              "    <tr>\n",
              "      <th>...</th>\n",
              "      <td>...</td>\n",
              "      <td>...</td>\n",
              "      <td>...</td>\n",
              "      <td>...</td>\n",
              "    </tr>\n",
              "    <tr>\n",
              "      <th>3335</th>\n",
              "      <td>5</td>\n",
              "      <td>2021-12-23</td>\n",
              "      <td>Had to change some details on policy</td>\n",
              "      <td>Had to change some details on policy, staff we...</td>\n",
              "    </tr>\n",
              "    <tr>\n",
              "      <th>3336</th>\n",
              "      <td>5</td>\n",
              "      <td>2021-12-23</td>\n",
              "      <td>AXA have and remain a pleasure to deal…</td>\n",
              "      <td>AXA have and remain a pleasure to deal with</td>\n",
              "    </tr>\n",
              "    <tr>\n",
              "      <th>3337</th>\n",
              "      <td>4</td>\n",
              "      <td>2021-12-23</td>\n",
              "      <td>Great price great cover just a shame…</td>\n",
              "      <td>Great price great cover just a shame they don'...</td>\n",
              "    </tr>\n",
              "    <tr>\n",
              "      <th>3338</th>\n",
              "      <td>5</td>\n",
              "      <td>2021-12-23</td>\n",
              "      <td>Extremely easy company</td>\n",
              "      <td>Extremely easy company, app to use. Updating a...</td>\n",
              "    </tr>\n",
              "    <tr>\n",
              "      <th>3339</th>\n",
              "      <td>5</td>\n",
              "      <td>2021-12-23</td>\n",
              "      <td>Efficient service with value for money</td>\n",
              "      <td>None</td>\n",
              "    </tr>\n",
              "  </tbody>\n",
              "</table>\n",
              "<p>3340 rows × 4 columns</p>\n",
              "</div>\n",
              "      <button class=\"colab-df-convert\" onclick=\"convertToInteractive('df-f9afd459-d66c-48eb-8703-767b6bb30d03')\"\n",
              "              title=\"Convert this dataframe to an interactive table.\"\n",
              "              style=\"display:none;\">\n",
              "        \n",
              "  <svg xmlns=\"http://www.w3.org/2000/svg\" height=\"24px\"viewBox=\"0 0 24 24\"\n",
              "       width=\"24px\">\n",
              "    <path d=\"M0 0h24v24H0V0z\" fill=\"none\"/>\n",
              "    <path d=\"M18.56 5.44l.94 2.06.94-2.06 2.06-.94-2.06-.94-.94-2.06-.94 2.06-2.06.94zm-11 1L8.5 8.5l.94-2.06 2.06-.94-2.06-.94L8.5 2.5l-.94 2.06-2.06.94zm10 10l.94 2.06.94-2.06 2.06-.94-2.06-.94-.94-2.06-.94 2.06-2.06.94z\"/><path d=\"M17.41 7.96l-1.37-1.37c-.4-.4-.92-.59-1.43-.59-.52 0-1.04.2-1.43.59L10.3 9.45l-7.72 7.72c-.78.78-.78 2.05 0 2.83L4 21.41c.39.39.9.59 1.41.59.51 0 1.02-.2 1.41-.59l7.78-7.78 2.81-2.81c.8-.78.8-2.07 0-2.86zM5.41 20L4 18.59l7.72-7.72 1.47 1.35L5.41 20z\"/>\n",
              "  </svg>\n",
              "      </button>\n",
              "      \n",
              "  <style>\n",
              "    .colab-df-container {\n",
              "      display:flex;\n",
              "      flex-wrap:wrap;\n",
              "      gap: 12px;\n",
              "    }\n",
              "\n",
              "    .colab-df-convert {\n",
              "      background-color: #E8F0FE;\n",
              "      border: none;\n",
              "      border-radius: 50%;\n",
              "      cursor: pointer;\n",
              "      display: none;\n",
              "      fill: #1967D2;\n",
              "      height: 32px;\n",
              "      padding: 0 0 0 0;\n",
              "      width: 32px;\n",
              "    }\n",
              "\n",
              "    .colab-df-convert:hover {\n",
              "      background-color: #E2EBFA;\n",
              "      box-shadow: 0px 1px 2px rgba(60, 64, 67, 0.3), 0px 1px 3px 1px rgba(60, 64, 67, 0.15);\n",
              "      fill: #174EA6;\n",
              "    }\n",
              "\n",
              "    [theme=dark] .colab-df-convert {\n",
              "      background-color: #3B4455;\n",
              "      fill: #D2E3FC;\n",
              "    }\n",
              "\n",
              "    [theme=dark] .colab-df-convert:hover {\n",
              "      background-color: #434B5C;\n",
              "      box-shadow: 0px 1px 3px 1px rgba(0, 0, 0, 0.15);\n",
              "      filter: drop-shadow(0px 1px 2px rgba(0, 0, 0, 0.3));\n",
              "      fill: #FFFFFF;\n",
              "    }\n",
              "  </style>\n",
              "\n",
              "      <script>\n",
              "        const buttonEl =\n",
              "          document.querySelector('#df-f9afd459-d66c-48eb-8703-767b6bb30d03 button.colab-df-convert');\n",
              "        buttonEl.style.display =\n",
              "          google.colab.kernel.accessAllowed ? 'block' : 'none';\n",
              "\n",
              "        async function convertToInteractive(key) {\n",
              "          const element = document.querySelector('#df-f9afd459-d66c-48eb-8703-767b6bb30d03');\n",
              "          const dataTable =\n",
              "            await google.colab.kernel.invokeFunction('convertToInteractive',\n",
              "                                                     [key], {});\n",
              "          if (!dataTable) return;\n",
              "\n",
              "          const docLinkHtml = 'Like what you see? Visit the ' +\n",
              "            '<a target=\"_blank\" href=https://colab.research.google.com/notebooks/data_table.ipynb>data table notebook</a>'\n",
              "            + ' to learn more about interactive tables.';\n",
              "          element.innerHTML = '';\n",
              "          dataTable['output_type'] = 'display_data';\n",
              "          await google.colab.output.renderOutput(dataTable, element);\n",
              "          const docLink = document.createElement('div');\n",
              "          docLink.innerHTML = docLinkHtml;\n",
              "          element.appendChild(docLink);\n",
              "        }\n",
              "      </script>\n",
              "    </div>\n",
              "  </div>\n",
              "  "
            ]
          },
          "metadata": {},
          "execution_count": 29
        }
      ]
    },
    {
      "cell_type": "code",
      "source": [
        "# df.groupby('date')"
      ],
      "metadata": {
        "id": "x1CxvreXJID5"
      },
      "execution_count": 30,
      "outputs": []
    }
  ]
}