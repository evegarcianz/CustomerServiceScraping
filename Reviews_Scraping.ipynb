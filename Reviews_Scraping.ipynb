{
  "nbformat": 4,
  "nbformat_minor": 0,
  "metadata": {
    "colab": {
      "name": "Reviews_Scraping.ipynb",
      "provenance": []
    },
    "kernelspec": {
      "name": "python3",
      "display_name": "Python 3"
    },
    "language_info": {
      "name": "python"
    }
  },
  "cells": [
    {
      "cell_type": "code",
      "execution_count": 1,
      "metadata": {
        "colab": {
          "base_uri": "https://localhost:8080/"
        },
        "id": "-hYKnBXiBAQR",
        "outputId": "3395a704-c2d4-4080-bb6e-4aad4936cbf4"
      },
      "outputs": [
        {
          "output_type": "stream",
          "name": "stdout",
          "text": [
            "Looking in indexes: https://pypi.org/simple, https://us-python.pkg.dev/colab-wheels/public/simple/\n",
            "Requirement already satisfied: beautifulsoup4 in /usr/local/lib/python3.7/dist-packages (4.6.3)\n"
          ]
        }
      ],
      "source": [
        "!pip install beautifulsoup4"
      ]
    },
    {
      "cell_type": "code",
      "source": [
        "!pip install requests"
      ],
      "metadata": {
        "colab": {
          "base_uri": "https://localhost:8080/"
        },
        "id": "AR2nG_uIBQ-C",
        "outputId": "3f91a898-c216-454f-eeae-6bf35f6bf511"
      },
      "execution_count": 2,
      "outputs": [
        {
          "output_type": "stream",
          "name": "stdout",
          "text": [
            "Looking in indexes: https://pypi.org/simple, https://us-python.pkg.dev/colab-wheels/public/simple/\n",
            "Requirement already satisfied: requests in /usr/local/lib/python3.7/dist-packages (2.23.0)\n",
            "Requirement already satisfied: certifi>=2017.4.17 in /usr/local/lib/python3.7/dist-packages (from requests) (2022.6.15)\n",
            "Requirement already satisfied: idna<3,>=2.5 in /usr/local/lib/python3.7/dist-packages (from requests) (2.10)\n",
            "Requirement already satisfied: urllib3!=1.25.0,!=1.25.1,<1.26,>=1.21.1 in /usr/local/lib/python3.7/dist-packages (from requests) (1.24.3)\n",
            "Requirement already satisfied: chardet<4,>=3.0.2 in /usr/local/lib/python3.7/dist-packages (from requests) (3.0.4)\n"
          ]
        }
      ]
    },
    {
      "cell_type": "code",
      "source": [
        "from bs4 import BeautifulSoup\n",
        "import requests\n",
        "import re\n",
        "from datetime import datetime\n",
        "import pandas as pd\n",
        "import matplotlib.pyplot as plt\n",
        "import seaborn as sns"
      ],
      "metadata": {
        "id": "9769CymEKPg4"
      },
      "execution_count": 3,
      "outputs": []
    },
    {
      "cell_type": "code",
      "source": [
        "#This first URL is to obtain the total of pages we will iterate through\n",
        "#'https://www.trustpilot.com/review/www.axa.co.uk and https://www.trustpilot.com/review/www.axa.co.uk?page=1 work exactly the same '\n",
        "url= 'https://www.trustpilot.com/review/frontierinsurance.co.uk'\n",
        "results=requests.get(url)\n",
        "doc=BeautifulSoup(results.text, 'html.parser')\n",
        "\n",
        "#Obtains the total of pages\n",
        "pages=doc.find('a', {'name':'pagination-button-last'})\n",
        "\n",
        "# total_pages=int(pages.text)\n",
        "# total_pages\n",
        "pages\n"
      ],
      "metadata": {
        "id": "T3BYS1YLHoFc"
      },
      "execution_count": 36,
      "outputs": []
    },
    {
      "cell_type": "markdown",
      "source": [
        "## Obtaining reviews paragraphs"
      ],
      "metadata": {
        "id": "i3CL2oxVdL-r"
      }
    },
    {
      "cell_type": "code",
      "source": [
        "#Only the paragraphs belonging to the correct class reviews\n",
        "#paragraphs2=doc.find_all('p',{'class':\"typography_typography__QgicV typography_body__9UBeQ typography_color-black__5LYEn typography_weight-regular__TWEnf typography_fontstyle-normal__kHyN3\"})\n"
      ],
      "metadata": {
        "id": "Je8ZFfCuQvzh"
      },
      "execution_count": null,
      "outputs": []
    },
    {
      "cell_type": "code",
      "source": [
        "#text for obtaining the text even if it has breaks <br>\n",
        "#if I use .string instead of .text returns None when <br> present\n",
        "# for para in paragraphs2:\n",
        "#   print(para.text)"
      ],
      "metadata": {
        "id": "S_ySkVoIQ2V3"
      },
      "execution_count": null,
      "outputs": []
    },
    {
      "cell_type": "markdown",
      "source": [
        "## Obtaining the date of the reviews"
      ],
      "metadata": {
        "id": "E2RWYf0ydWt3"
      }
    },
    {
      "cell_type": "code",
      "source": [
        "# dates=doc.find_all('time')\n",
        "# len(dates)"
      ],
      "metadata": {
        "id": "FPJCAtTzdBjf"
      },
      "execution_count": null,
      "outputs": []
    },
    {
      "cell_type": "markdown",
      "source": [
        "## Obtaining data by descendants"
      ],
      "metadata": {
        "id": "2rwAtsvnbLSz"
      }
    },
    {
      "cell_type": "code",
      "source": [
        "# section=doc.find('section',{'class':\"styles_reviewsContainer__3_GQw\"})\n",
        "\n",
        "## Should iterate through these articles\n",
        "# articles=doc.find_all('article',{'class':\"paper_paper__1PY90 paper_square__lJX8a card_card__lQWDv styles_reviewCard__hcAvl\"})\n",
        "# articles=doc.find_all('article',{'class':\"paper_paper__1PY90 paper_square__lJX8a card_card__lQWDv styles_reviewCard__hcAvl styles_raised__HxiOi\"})\n",
        "\n",
        "#wrapers are the base, they are the containers of the reviews\n",
        "\n"
      ],
      "metadata": {
        "id": "HG98hqC6bscJ"
      },
      "execution_count": null,
      "outputs": []
    },
    {
      "cell_type": "code",
      "source": [
        "## Obtaining date\n",
        "# times=wrapers[0].contents[0].contents[1].find('time')\n",
        "# t=times['datetime']\n",
        "# fecha=re.search(\"([0-9]{4}\\-[0-9]{2}\\-[0-9]{2})\", t)\n",
        "# fecha[0]\n",
        "# print (datetime.fromisoformat(fecha[0]).date())"
      ],
      "metadata": {
        "id": "z4V80bfvm4SY"
      },
      "execution_count": null,
      "outputs": []
    },
    {
      "cell_type": "code",
      "source": [
        "# for w in wrapers[3].contents[1]:\n",
        "#   print(w)\n"
      ],
      "metadata": {
        "id": "IjOEesRNup9Y"
      },
      "execution_count": null,
      "outputs": []
    },
    {
      "cell_type": "code",
      "source": [
        "# wrapers[3].contents[1].find('p').text"
      ],
      "metadata": {
        "id": "a7P6-Se_wVzN"
      },
      "execution_count": null,
      "outputs": []
    },
    {
      "cell_type": "code",
      "source": [
        "# for page in range(total_pages):\n",
        "lista=[]\n",
        "for page in range(1,2):\n",
        "# for page in range(1,total_pages+1):\n",
        "\n",
        "  #print(f'this is page{page}')\n",
        "\n",
        "\n",
        "  url= f'https://www.trustpilot.com/review/www.axa.co.uk?page={page}'\n",
        "  results=requests.get(url)\n",
        "  doc=BeautifulSoup(results.text, 'html.parser')\n",
        "\n",
        "#wrapers are the base of everything there is on content wrapper of class \"styles_reviewContentwrapper__zH_9M\n",
        "#for every review and they nest rating, time, title and the review text\n",
        "  wrapers=doc.find_all('section',{'class':\"styles_reviewContentwrapper__zH_9M\"})\n",
        "  \n",
        "  \n",
        "  for i in range(len(wrapers)):\n",
        "    #this gets the rating wrapers[i].contents[0]['data-service-review-rating']\n",
        "    rating=int(wrapers[i].contents[0]['data-service-review-rating'])\n",
        "    #this gets the date\n",
        "    times_tag=wrapers[i].contents[0].contents[1].find('time')\n",
        "    time_string_long=times_tag['datetime']\n",
        "    time_string_regex=re.search(\"([0-9]{4}\\-[0-9]{2}\\-[0-9]{2})\", time_string_long)\n",
        "    time_string_short=time_string_regex[0]\n",
        "    date= datetime.fromisoformat(time_string_short).date()\n",
        "    #Review title\n",
        "    title=wrapers[i].contents[1].find('h2').text\n",
        "    #Review tex\n",
        "    if wrapers[i].contents[1].find('p'):\n",
        "      review=wrapers[i].contents[1].find('p').text\n",
        "    else:\n",
        "      review= None\n",
        "\n",
        "\n",
        "    data=[rating,date,title,review]\n",
        "\n",
        "    lista.append(data) \n",
        "  \n"
      ],
      "metadata": {
        "id": "PUrKE3wflcML"
      },
      "execution_count": null,
      "outputs": []
    },
    {
      "cell_type": "code",
      "source": [
        "# df=pd.DataFrame(lista,columns=[['Rating', 'Date', 'Title', 'Review']])\n",
        "df=pd.DataFrame(lista)"
      ],
      "metadata": {
        "id": "7fHuYAH7nPtV"
      },
      "execution_count": null,
      "outputs": []
    },
    {
      "cell_type": "code",
      "source": [
        "# type(df.Date.loc[0][0])"
      ],
      "metadata": {
        "id": "YVrrwOZ8h5HD"
      },
      "execution_count": null,
      "outputs": []
    },
    {
      "cell_type": "code",
      "source": [
        "df"
      ],
      "metadata": {
        "colab": {
          "base_uri": "https://localhost:8080/",
          "height": 677
        },
        "id": "LYhxTFvniP_Z",
        "outputId": "99a63ca8-d1e7-4cb6-947f-2446bb3c0a37"
      },
      "execution_count": null,
      "outputs": [
        {
          "output_type": "execute_result",
          "data": {
            "text/plain": [
              "    0           1                                                 2  \\\n",
              "0   5  2022-07-31                       very quick and easy to use.   \n",
              "1   5  2022-07-31                             Good customer service   \n",
              "2   5  2022-07-31                Website was easy to get around it…   \n",
              "3   5  2022-07-30            Very helpful gentleman helped me sort…   \n",
              "4   5  2022-07-30  Changed my car and wanted to update my insurance   \n",
              "5   1  2022-07-30                          Useless emergency policy   \n",
              "6   3  2022-07-30    Delay in receiving new car insurance documents   \n",
              "7   2  2022-07-30          50% more expensive as existing customer…   \n",
              "8   5  2022-07-30               Changed vehicle details with a few…   \n",
              "9   5  2022-07-30           Always willing to sort out your problem   \n",
              "10  5  2022-07-30              The Customer service agent was very…   \n",
              "11  5  2022-07-30                                  Added new driver   \n",
              "12  5  2022-07-30                               I am very satisfied   \n",
              "13  5  2022-07-30                                       Changed car   \n",
              "14  5  2022-07-30                           The Lady that helped us   \n",
              "15  5  2022-07-30                              All done on my phone   \n",
              "16  5  2022-07-30                   It was easy & excellent service   \n",
              "17  4  2022-07-30                I would have given 5 stars as the…   \n",
              "18  5  2022-07-30                 simple application form for home…   \n",
              "19  5  2022-07-29                            Efficient and friendly   \n",
              "\n",
              "                                                    3  \n",
              "0                                                None  \n",
              "1   Good customer service. Easy to contact without...  \n",
              "2   Website was easy to get around it didn't take ...  \n",
              "3   Very helpful gentleman helped me sort out addi...  \n",
              "4   Changed my car and wanted to update my insuran...  \n",
              "5   Bought emergency cover for plumbing and drains...  \n",
              "6   Although I received my new insurance certifica...  \n",
              "7   50% more expensive as existing customer than i...  \n",
              "8   Changed vehicle details with a few clicks onli...  \n",
              "9                                                None  \n",
              "10  The Customer service agent was very helpful my...  \n",
              "11  I went on axa website added new driver all don...  \n",
              "12                  I am very satisfied. I recommend.  \n",
              "13  Changed car, changed insurance over for it onl...  \n",
              "14  The Lady that helped us change our policy deta...  \n",
              "15               All done on my phone. Nice and easy.  \n",
              "16  It was easy & excellent service.  Informative ...  \n",
              "17  I would have given 5 stars as the person was v...  \n",
              "18  simple application form for home insurance onl...  \n",
              "19                                               None  "
            ],
            "text/html": [
              "\n",
              "  <div id=\"df-975e2fe8-6649-433a-bf98-e917dc0693fe\">\n",
              "    <div class=\"colab-df-container\">\n",
              "      <div>\n",
              "<style scoped>\n",
              "    .dataframe tbody tr th:only-of-type {\n",
              "        vertical-align: middle;\n",
              "    }\n",
              "\n",
              "    .dataframe tbody tr th {\n",
              "        vertical-align: top;\n",
              "    }\n",
              "\n",
              "    .dataframe thead th {\n",
              "        text-align: right;\n",
              "    }\n",
              "</style>\n",
              "<table border=\"1\" class=\"dataframe\">\n",
              "  <thead>\n",
              "    <tr style=\"text-align: right;\">\n",
              "      <th></th>\n",
              "      <th>0</th>\n",
              "      <th>1</th>\n",
              "      <th>2</th>\n",
              "      <th>3</th>\n",
              "    </tr>\n",
              "  </thead>\n",
              "  <tbody>\n",
              "    <tr>\n",
              "      <th>0</th>\n",
              "      <td>5</td>\n",
              "      <td>2022-07-31</td>\n",
              "      <td>very quick and easy to use.</td>\n",
              "      <td>None</td>\n",
              "    </tr>\n",
              "    <tr>\n",
              "      <th>1</th>\n",
              "      <td>5</td>\n",
              "      <td>2022-07-31</td>\n",
              "      <td>Good customer service</td>\n",
              "      <td>Good customer service. Easy to contact without...</td>\n",
              "    </tr>\n",
              "    <tr>\n",
              "      <th>2</th>\n",
              "      <td>5</td>\n",
              "      <td>2022-07-31</td>\n",
              "      <td>Website was easy to get around it…</td>\n",
              "      <td>Website was easy to get around it didn't take ...</td>\n",
              "    </tr>\n",
              "    <tr>\n",
              "      <th>3</th>\n",
              "      <td>5</td>\n",
              "      <td>2022-07-30</td>\n",
              "      <td>Very helpful gentleman helped me sort…</td>\n",
              "      <td>Very helpful gentleman helped me sort out addi...</td>\n",
              "    </tr>\n",
              "    <tr>\n",
              "      <th>4</th>\n",
              "      <td>5</td>\n",
              "      <td>2022-07-30</td>\n",
              "      <td>Changed my car and wanted to update my insurance</td>\n",
              "      <td>Changed my car and wanted to update my insuran...</td>\n",
              "    </tr>\n",
              "    <tr>\n",
              "      <th>5</th>\n",
              "      <td>1</td>\n",
              "      <td>2022-07-30</td>\n",
              "      <td>Useless emergency policy</td>\n",
              "      <td>Bought emergency cover for plumbing and drains...</td>\n",
              "    </tr>\n",
              "    <tr>\n",
              "      <th>6</th>\n",
              "      <td>3</td>\n",
              "      <td>2022-07-30</td>\n",
              "      <td>Delay in receiving new car insurance documents</td>\n",
              "      <td>Although I received my new insurance certifica...</td>\n",
              "    </tr>\n",
              "    <tr>\n",
              "      <th>7</th>\n",
              "      <td>2</td>\n",
              "      <td>2022-07-30</td>\n",
              "      <td>50% more expensive as existing customer…</td>\n",
              "      <td>50% more expensive as existing customer than i...</td>\n",
              "    </tr>\n",
              "    <tr>\n",
              "      <th>8</th>\n",
              "      <td>5</td>\n",
              "      <td>2022-07-30</td>\n",
              "      <td>Changed vehicle details with a few…</td>\n",
              "      <td>Changed vehicle details with a few clicks onli...</td>\n",
              "    </tr>\n",
              "    <tr>\n",
              "      <th>9</th>\n",
              "      <td>5</td>\n",
              "      <td>2022-07-30</td>\n",
              "      <td>Always willing to sort out your problem</td>\n",
              "      <td>None</td>\n",
              "    </tr>\n",
              "    <tr>\n",
              "      <th>10</th>\n",
              "      <td>5</td>\n",
              "      <td>2022-07-30</td>\n",
              "      <td>The Customer service agent was very…</td>\n",
              "      <td>The Customer service agent was very helpful my...</td>\n",
              "    </tr>\n",
              "    <tr>\n",
              "      <th>11</th>\n",
              "      <td>5</td>\n",
              "      <td>2022-07-30</td>\n",
              "      <td>Added new driver</td>\n",
              "      <td>I went on axa website added new driver all don...</td>\n",
              "    </tr>\n",
              "    <tr>\n",
              "      <th>12</th>\n",
              "      <td>5</td>\n",
              "      <td>2022-07-30</td>\n",
              "      <td>I am very satisfied</td>\n",
              "      <td>I am very satisfied. I recommend.</td>\n",
              "    </tr>\n",
              "    <tr>\n",
              "      <th>13</th>\n",
              "      <td>5</td>\n",
              "      <td>2022-07-30</td>\n",
              "      <td>Changed car</td>\n",
              "      <td>Changed car, changed insurance over for it onl...</td>\n",
              "    </tr>\n",
              "    <tr>\n",
              "      <th>14</th>\n",
              "      <td>5</td>\n",
              "      <td>2022-07-30</td>\n",
              "      <td>The Lady that helped us</td>\n",
              "      <td>The Lady that helped us change our policy deta...</td>\n",
              "    </tr>\n",
              "    <tr>\n",
              "      <th>15</th>\n",
              "      <td>5</td>\n",
              "      <td>2022-07-30</td>\n",
              "      <td>All done on my phone</td>\n",
              "      <td>All done on my phone. Nice and easy.</td>\n",
              "    </tr>\n",
              "    <tr>\n",
              "      <th>16</th>\n",
              "      <td>5</td>\n",
              "      <td>2022-07-30</td>\n",
              "      <td>It was easy &amp; excellent service</td>\n",
              "      <td>It was easy &amp; excellent service.  Informative ...</td>\n",
              "    </tr>\n",
              "    <tr>\n",
              "      <th>17</th>\n",
              "      <td>4</td>\n",
              "      <td>2022-07-30</td>\n",
              "      <td>I would have given 5 stars as the…</td>\n",
              "      <td>I would have given 5 stars as the person was v...</td>\n",
              "    </tr>\n",
              "    <tr>\n",
              "      <th>18</th>\n",
              "      <td>5</td>\n",
              "      <td>2022-07-30</td>\n",
              "      <td>simple application form for home…</td>\n",
              "      <td>simple application form for home insurance onl...</td>\n",
              "    </tr>\n",
              "    <tr>\n",
              "      <th>19</th>\n",
              "      <td>5</td>\n",
              "      <td>2022-07-29</td>\n",
              "      <td>Efficient and friendly</td>\n",
              "      <td>None</td>\n",
              "    </tr>\n",
              "  </tbody>\n",
              "</table>\n",
              "</div>\n",
              "      <button class=\"colab-df-convert\" onclick=\"convertToInteractive('df-975e2fe8-6649-433a-bf98-e917dc0693fe')\"\n",
              "              title=\"Convert this dataframe to an interactive table.\"\n",
              "              style=\"display:none;\">\n",
              "        \n",
              "  <svg xmlns=\"http://www.w3.org/2000/svg\" height=\"24px\"viewBox=\"0 0 24 24\"\n",
              "       width=\"24px\">\n",
              "    <path d=\"M0 0h24v24H0V0z\" fill=\"none\"/>\n",
              "    <path d=\"M18.56 5.44l.94 2.06.94-2.06 2.06-.94-2.06-.94-.94-2.06-.94 2.06-2.06.94zm-11 1L8.5 8.5l.94-2.06 2.06-.94-2.06-.94L8.5 2.5l-.94 2.06-2.06.94zm10 10l.94 2.06.94-2.06 2.06-.94-2.06-.94-.94-2.06-.94 2.06-2.06.94z\"/><path d=\"M17.41 7.96l-1.37-1.37c-.4-.4-.92-.59-1.43-.59-.52 0-1.04.2-1.43.59L10.3 9.45l-7.72 7.72c-.78.78-.78 2.05 0 2.83L4 21.41c.39.39.9.59 1.41.59.51 0 1.02-.2 1.41-.59l7.78-7.78 2.81-2.81c.8-.78.8-2.07 0-2.86zM5.41 20L4 18.59l7.72-7.72 1.47 1.35L5.41 20z\"/>\n",
              "  </svg>\n",
              "      </button>\n",
              "      \n",
              "  <style>\n",
              "    .colab-df-container {\n",
              "      display:flex;\n",
              "      flex-wrap:wrap;\n",
              "      gap: 12px;\n",
              "    }\n",
              "\n",
              "    .colab-df-convert {\n",
              "      background-color: #E8F0FE;\n",
              "      border: none;\n",
              "      border-radius: 50%;\n",
              "      cursor: pointer;\n",
              "      display: none;\n",
              "      fill: #1967D2;\n",
              "      height: 32px;\n",
              "      padding: 0 0 0 0;\n",
              "      width: 32px;\n",
              "    }\n",
              "\n",
              "    .colab-df-convert:hover {\n",
              "      background-color: #E2EBFA;\n",
              "      box-shadow: 0px 1px 2px rgba(60, 64, 67, 0.3), 0px 1px 3px 1px rgba(60, 64, 67, 0.15);\n",
              "      fill: #174EA6;\n",
              "    }\n",
              "\n",
              "    [theme=dark] .colab-df-convert {\n",
              "      background-color: #3B4455;\n",
              "      fill: #D2E3FC;\n",
              "    }\n",
              "\n",
              "    [theme=dark] .colab-df-convert:hover {\n",
              "      background-color: #434B5C;\n",
              "      box-shadow: 0px 1px 3px 1px rgba(0, 0, 0, 0.15);\n",
              "      filter: drop-shadow(0px 1px 2px rgba(0, 0, 0, 0.3));\n",
              "      fill: #FFFFFF;\n",
              "    }\n",
              "  </style>\n",
              "\n",
              "      <script>\n",
              "        const buttonEl =\n",
              "          document.querySelector('#df-975e2fe8-6649-433a-bf98-e917dc0693fe button.colab-df-convert');\n",
              "        buttonEl.style.display =\n",
              "          google.colab.kernel.accessAllowed ? 'block' : 'none';\n",
              "\n",
              "        async function convertToInteractive(key) {\n",
              "          const element = document.querySelector('#df-975e2fe8-6649-433a-bf98-e917dc0693fe');\n",
              "          const dataTable =\n",
              "            await google.colab.kernel.invokeFunction('convertToInteractive',\n",
              "                                                     [key], {});\n",
              "          if (!dataTable) return;\n",
              "\n",
              "          const docLinkHtml = 'Like what you see? Visit the ' +\n",
              "            '<a target=\"_blank\" href=https://colab.research.google.com/notebooks/data_table.ipynb>data table notebook</a>'\n",
              "            + ' to learn more about interactive tables.';\n",
              "          element.innerHTML = '';\n",
              "          dataTable['output_type'] = 'display_data';\n",
              "          await google.colab.output.renderOutput(dataTable, element);\n",
              "          const docLink = document.createElement('div');\n",
              "          docLink.innerHTML = docLinkHtml;\n",
              "          element.appendChild(docLink);\n",
              "        }\n",
              "      </script>\n",
              "    </div>\n",
              "  </div>\n",
              "  "
            ]
          },
          "metadata": {},
          "execution_count": 151
        }
      ]
    },
    {
      "cell_type": "code",
      "source": [
        "df[1] = pd.to_datetime(df[1]) - pd.to_timedelta(7, unit='d')"
      ],
      "metadata": {
        "id": "dcygO4gMypTX"
      },
      "execution_count": null,
      "outputs": []
    },
    {
      "cell_type": "markdown",
      "source": [
        "# Here the functions starts"
      ],
      "metadata": {
        "id": "1fQRvn1V9Vl8"
      }
    },
    {
      "cell_type": "code",
      "source": [
        "def df_creator(url):\n",
        "  \n",
        "  #reads the url for the first time\n",
        "  results=requests.get(url)\n",
        "  doc=BeautifulSoup(results.text, 'html.parser')\n",
        "  #Obtains the total of pages\n",
        "  pages=doc.find('a', {'name':'pagination-button-last'})\n",
        "  #total_pages=int(pages.string)\n",
        "\n",
        "  #add this string ?page= to be able to iterate through pages\n",
        "  new_url=url+'?page='\n",
        "  lista=[]\n",
        "  \n",
        "  for page in range(1,619+1):\n",
        "\n",
        "    \n",
        "    url_for_loop= new_url+str(page)\n",
        "    results=requests.get(url_for_loop)\n",
        "    doc=BeautifulSoup(results.text, 'html.parser')\n",
        "\n",
        "  #wrapers are the base of everything there is on content wrapper of class \"styles_reviewContentwrapper__zH_9M\n",
        "  #for every review and they nest rating, time, title and the review text\n",
        "    wrapers=doc.find_all('section',{'class':\"styles_reviewContentwrapper__zH_9M\"})\n",
        "    \n",
        "    \n",
        "    for i in range(len(wrapers)):\n",
        "      #this gets the rating wrapers[i].contents[0]['data-service-review-rating']\n",
        "      rating=int(wrapers[i].contents[0]['data-service-review-rating'])\n",
        "      #this gets the date\n",
        "      times_tag=wrapers[i].contents[0].contents[1].find('time')\n",
        "      time_string_long=times_tag['datetime']\n",
        "      time_string_regex=re.search(\"([0-9]{4}\\-[0-9]{2}\\-[0-9]{2})\", time_string_long)\n",
        "      time_string_short=time_string_regex[0]\n",
        "      date= datetime.fromisoformat(time_string_short).date()\n",
        "      #Review title\n",
        "      title=wrapers[i].contents[1].find('h2').text\n",
        "      #Review tex\n",
        "      if wrapers[i].contents[1].find('p'):\n",
        "\n",
        "        review=wrapers[i].contents[1].find('p').text\n",
        "      else:\n",
        "        review= None\n",
        "\n",
        "\n",
        "      data=[rating,date,title,review]\n",
        "\n",
        "      lista.append(data)\n",
        "    df=pd.DataFrame(lista)\n",
        "    df[1] = pd.to_datetime(df[1])\n",
        "\n",
        "  return df\n"
      ],
      "metadata": {
        "id": "a-PK4wa39U4I"
      },
      "execution_count": 46,
      "outputs": []
    },
    {
      "cell_type": "code",
      "source": [
        "## Use these dataframes for graphics\n",
        "df_axa=df_creator('https://www.trustpilot.com/review/www.axa.co.uk')"
      ],
      "metadata": {
        "id": "P9cRTeS89yOA"
      },
      "execution_count": 23,
      "outputs": []
    },
    {
      "cell_type": "code",
      "source": [
        "df_axa.columns"
      ],
      "metadata": {
        "id": "gkj4irCXOJ-z",
        "outputId": "ed079da9-09e3-46ec-dbdc-773e85c63aaf",
        "colab": {
          "base_uri": "https://localhost:8080/"
        }
      },
      "execution_count": 55,
      "outputs": [
        {
          "output_type": "execute_result",
          "data": {
            "text/plain": [
              "RangeIndex(start=0, stop=4, step=1)"
            ]
          },
          "metadata": {},
          "execution_count": 55
        }
      ]
    },
    {
      "cell_type": "code",
      "source": [
        "df_frontier=df_creator('https://www.trustpilot.com/review/frontierinsurance.co.uk')"
      ],
      "metadata": {
        "id": "6QhnasWJkxX4"
      },
      "execution_count": 37,
      "outputs": []
    },
    {
      "cell_type": "code",
      "source": [
        "df_admiral=df_creator('https://www.trustpilot.com/review/www.admiral.com')"
      ],
      "metadata": {
        "id": "dQasAcyNlmw2"
      },
      "execution_count": 48,
      "outputs": []
    },
    {
      "cell_type": "markdown",
      "source": [
        "## Saving dataframes to csv files"
      ],
      "metadata": {
        "id": "5AaRc_lCpLW2"
      }
    },
    {
      "cell_type": "code",
      "source": [
        "df_axa.to_csv('df_axa.csv')\n",
        "df_frontier.to_csv('df_frontier.csv')\n",
        "df_admiral.to_csv('df_admiral.csv')\n"
      ],
      "metadata": {
        "id": "YgJ3_y1gpcID"
      },
      "execution_count": null,
      "outputs": []
    },
    {
      "cell_type": "markdown",
      "source": [
        "## Read CSV files"
      ],
      "metadata": {
        "id": "ul0FLCbsLkH8"
      }
    },
    {
      "cell_type": "code",
      "source": [
        "df_axa=pd.read_csv('df_axa.csv')\n",
        "df_frontier=pd.read_csv('df_frontier.csv')\n",
        "df_admiral=pd.read_csv('df_admiral.csv')"
      ],
      "metadata": {
        "id": "3AmQo5TELjau"
      },
      "execution_count": 7,
      "outputs": []
    },
    {
      "cell_type": "code",
      "source": [
        "# df_axa.drop('Unnamed: 0')\n",
        "# df_frontier.drop('Unnamed: 0')\n",
        "# df_admiral.drop('Unnamed: 0')"
      ],
      "metadata": {
        "id": "NCLIkJAdMK5o"
      },
      "execution_count": 17,
      "outputs": []
    },
    {
      "cell_type": "markdown",
      "source": [
        "## Getting interesting data\n",
        "\n",
        "\n",
        "1.   Rate average\n",
        "2.   Comments per day\n",
        "1.   Comments per week\n",
        "2.   Date of the last comment\n",
        "1.   Date of the first \n",
        "\n",
        "\n",
        "\n",
        "\n",
        "\n",
        "\n",
        "\n",
        "\n"
      ],
      "metadata": {
        "id": "9PHIufu5oLFn"
      }
    },
    {
      "cell_type": "code",
      "source": [
        "#Axa\n",
        "def summary_creator(df):\n",
        "  rate_average=df[0].mean()\n",
        "  avarage_comments_day=df.groupby([pd.Grouper(key=1, freq='d')]).count()[3].mean()\n",
        "  avarage_comments_week=df.groupby([pd.Grouper(key=1, freq='W')]).count()[3].mean()\n",
        "  date_of_last_comment=df[1].max()\n",
        "  date_of_first_comment=df[1].min()\n",
        "  #total_reviews=df.shape[0]\n",
        "\n",
        "  print(f'''Average rate is {rate_average}\n",
        "  Average review per day is {avarage_comments_day}\n",
        "  Average review per week is {avarage_comments_week}\n",
        "  Last review was posted on {date_of_last_comment})\n",
        "  First review was posted on {date_of_first_comment}''')\n",
        "\n",
        "  return rate_average, avarage_comments_day, avarage_comments_week\n"
      ],
      "metadata": {
        "id": "W1lUH3b4pw8T"
      },
      "execution_count": 61,
      "outputs": []
    },
    {
      "cell_type": "code",
      "source": [
        "axa_rate_average, axa_avarage_comments_day, axa_avarage_comments_week=summary_creator(df_axa)"
      ],
      "metadata": {
        "id": "_jZGt282vtKa",
        "outputId": "529148f4-ff1f-483e-e250-60d718e373ec",
        "colab": {
          "base_uri": "https://localhost:8080/"
        }
      },
      "execution_count": 62,
      "outputs": [
        {
          "output_type": "stream",
          "name": "stdout",
          "text": [
            "Average rate is 4.369536423841059\n",
            "  Average review per day is 10.370762711864407\n",
            "  Average review per week is 71.98529411764706\n",
            "  Last review was posted on 2022-07-31 00:00:00)\n",
            "  First review was posted on 2021-04-16 00:00:00\n"
          ]
        }
      ]
    },
    {
      "cell_type": "code",
      "source": [
        "frontier_rate_average, frontier_avarage_comments_day, frontier_avarage_comments_week=summary_creator(df_frontier)"
      ],
      "metadata": {
        "id": "BjH5BeGmv9a2",
        "outputId": "098632ef-db7b-496d-9c87-44a73ca761da",
        "colab": {
          "base_uri": "https://localhost:8080/"
        }
      },
      "execution_count": 63,
      "outputs": [
        {
          "output_type": "stream",
          "name": "stdout",
          "text": [
            "Average rate is 4.694805194805195\n",
            "  Average review per day is 1.896774193548387\n",
            "  Average review per week is 13.192307692307692\n",
            "  Last review was posted on 2022-08-01 00:00:00)\n",
            "  First review was posted on 2019-08-13 00:00:00\n"
          ]
        }
      ]
    },
    {
      "cell_type": "code",
      "source": [
        "admiral_rate_average, admiral_avarage_comments_day, admiral_avarage_comments_week=summary_creator(df_admiral)"
      ],
      "metadata": {
        "id": "3U9T5nUqoJk0",
        "outputId": "518fbf8f-fcf3-442e-86de-c43c07213a58",
        "colab": {
          "base_uri": "https://localhost:8080/"
        }
      },
      "execution_count": 64,
      "outputs": [
        {
          "output_type": "stream",
          "name": "stdout",
          "text": [
            "Average rate is 3.1617816091954025\n",
            "  Average review per day is 6.393762183235867\n",
            "  Average review per week is 44.32432432432432\n",
            "  Last review was posted on 2022-07-31 00:00:00)\n",
            "  First review was posted on 2021-03-06 00:00:00\n"
          ]
        }
      ]
    },
    {
      "cell_type": "code",
      "source": [
        "general_info=[[axa_rate_average, axa_avarage_comments_day, axa_avarage_comments_week],\n",
        "              [frontier_rate_average, frontier_avarage_comments_day, frontier_avarage_comments_week],\n",
        "              [admiral_rate_average, admiral_avarage_comments_day, admiral_avarage_comments_week]]"
      ],
      "metadata": {
        "id": "SYYLsl0Ia52B"
      },
      "execution_count": 69,
      "outputs": []
    },
    {
      "cell_type": "code",
      "source": [
        "general_info_df=pd.DataFrame(general_info, columns=[['Rate', 'Comments per day(avg)', 'Comments per week(avg)']], index=['AXA','Frontier','Admiral'])\n",
        "\n",
        "#, index=[['AXA','Frontier','Admiral']]\n",
        "general_info_df"
      ],
      "metadata": {
        "id": "b3ZB-r8Dbc4N",
        "outputId": "ea7fcbbf-22b2-4771-8007-acbd9705e16e",
        "colab": {
          "base_uri": "https://localhost:8080/",
          "height": 143
        }
      },
      "execution_count": 91,
      "outputs": [
        {
          "output_type": "execute_result",
          "data": {
            "text/plain": [
              "              Rate Comments per day(avg) Comments per week(avg)\n",
              "AXA       4.369536             10.370763              71.985294\n",
              "Frontier  4.694805              1.896774              13.192308\n",
              "Admiral   3.161782              6.393762              44.324324"
            ],
            "text/html": [
              "\n",
              "  <div id=\"df-7ee99db3-e928-4f59-b535-020ca2595ec0\">\n",
              "    <div class=\"colab-df-container\">\n",
              "      <div>\n",
              "<style scoped>\n",
              "    .dataframe tbody tr th:only-of-type {\n",
              "        vertical-align: middle;\n",
              "    }\n",
              "\n",
              "    .dataframe tbody tr th {\n",
              "        vertical-align: top;\n",
              "    }\n",
              "\n",
              "    .dataframe thead tr th {\n",
              "        text-align: left;\n",
              "    }\n",
              "</style>\n",
              "<table border=\"1\" class=\"dataframe\">\n",
              "  <thead>\n",
              "    <tr>\n",
              "      <th></th>\n",
              "      <th>Rate</th>\n",
              "      <th>Comments per day(avg)</th>\n",
              "      <th>Comments per week(avg)</th>\n",
              "    </tr>\n",
              "  </thead>\n",
              "  <tbody>\n",
              "    <tr>\n",
              "      <th>AXA</th>\n",
              "      <td>4.369536</td>\n",
              "      <td>10.370763</td>\n",
              "      <td>71.985294</td>\n",
              "    </tr>\n",
              "    <tr>\n",
              "      <th>Frontier</th>\n",
              "      <td>4.694805</td>\n",
              "      <td>1.896774</td>\n",
              "      <td>13.192308</td>\n",
              "    </tr>\n",
              "    <tr>\n",
              "      <th>Admiral</th>\n",
              "      <td>3.161782</td>\n",
              "      <td>6.393762</td>\n",
              "      <td>44.324324</td>\n",
              "    </tr>\n",
              "  </tbody>\n",
              "</table>\n",
              "</div>\n",
              "      <button class=\"colab-df-convert\" onclick=\"convertToInteractive('df-7ee99db3-e928-4f59-b535-020ca2595ec0')\"\n",
              "              title=\"Convert this dataframe to an interactive table.\"\n",
              "              style=\"display:none;\">\n",
              "        \n",
              "  <svg xmlns=\"http://www.w3.org/2000/svg\" height=\"24px\"viewBox=\"0 0 24 24\"\n",
              "       width=\"24px\">\n",
              "    <path d=\"M0 0h24v24H0V0z\" fill=\"none\"/>\n",
              "    <path d=\"M18.56 5.44l.94 2.06.94-2.06 2.06-.94-2.06-.94-.94-2.06-.94 2.06-2.06.94zm-11 1L8.5 8.5l.94-2.06 2.06-.94-2.06-.94L8.5 2.5l-.94 2.06-2.06.94zm10 10l.94 2.06.94-2.06 2.06-.94-2.06-.94-.94-2.06-.94 2.06-2.06.94z\"/><path d=\"M17.41 7.96l-1.37-1.37c-.4-.4-.92-.59-1.43-.59-.52 0-1.04.2-1.43.59L10.3 9.45l-7.72 7.72c-.78.78-.78 2.05 0 2.83L4 21.41c.39.39.9.59 1.41.59.51 0 1.02-.2 1.41-.59l7.78-7.78 2.81-2.81c.8-.78.8-2.07 0-2.86zM5.41 20L4 18.59l7.72-7.72 1.47 1.35L5.41 20z\"/>\n",
              "  </svg>\n",
              "      </button>\n",
              "      \n",
              "  <style>\n",
              "    .colab-df-container {\n",
              "      display:flex;\n",
              "      flex-wrap:wrap;\n",
              "      gap: 12px;\n",
              "    }\n",
              "\n",
              "    .colab-df-convert {\n",
              "      background-color: #E8F0FE;\n",
              "      border: none;\n",
              "      border-radius: 50%;\n",
              "      cursor: pointer;\n",
              "      display: none;\n",
              "      fill: #1967D2;\n",
              "      height: 32px;\n",
              "      padding: 0 0 0 0;\n",
              "      width: 32px;\n",
              "    }\n",
              "\n",
              "    .colab-df-convert:hover {\n",
              "      background-color: #E2EBFA;\n",
              "      box-shadow: 0px 1px 2px rgba(60, 64, 67, 0.3), 0px 1px 3px 1px rgba(60, 64, 67, 0.15);\n",
              "      fill: #174EA6;\n",
              "    }\n",
              "\n",
              "    [theme=dark] .colab-df-convert {\n",
              "      background-color: #3B4455;\n",
              "      fill: #D2E3FC;\n",
              "    }\n",
              "\n",
              "    [theme=dark] .colab-df-convert:hover {\n",
              "      background-color: #434B5C;\n",
              "      box-shadow: 0px 1px 3px 1px rgba(0, 0, 0, 0.15);\n",
              "      filter: drop-shadow(0px 1px 2px rgba(0, 0, 0, 0.3));\n",
              "      fill: #FFFFFF;\n",
              "    }\n",
              "  </style>\n",
              "\n",
              "      <script>\n",
              "        const buttonEl =\n",
              "          document.querySelector('#df-7ee99db3-e928-4f59-b535-020ca2595ec0 button.colab-df-convert');\n",
              "        buttonEl.style.display =\n",
              "          google.colab.kernel.accessAllowed ? 'block' : 'none';\n",
              "\n",
              "        async function convertToInteractive(key) {\n",
              "          const element = document.querySelector('#df-7ee99db3-e928-4f59-b535-020ca2595ec0');\n",
              "          const dataTable =\n",
              "            await google.colab.kernel.invokeFunction('convertToInteractive',\n",
              "                                                     [key], {});\n",
              "          if (!dataTable) return;\n",
              "\n",
              "          const docLinkHtml = 'Like what you see? Visit the ' +\n",
              "            '<a target=\"_blank\" href=https://colab.research.google.com/notebooks/data_table.ipynb>data table notebook</a>'\n",
              "            + ' to learn more about interactive tables.';\n",
              "          element.innerHTML = '';\n",
              "          dataTable['output_type'] = 'display_data';\n",
              "          await google.colab.output.renderOutput(dataTable, element);\n",
              "          const docLink = document.createElement('div');\n",
              "          docLink.innerHTML = docLinkHtml;\n",
              "          element.appendChild(docLink);\n",
              "        }\n",
              "      </script>\n",
              "    </div>\n",
              "  </div>\n",
              "  "
            ]
          },
          "metadata": {},
          "execution_count": 91
        }
      ]
    },
    {
      "cell_type": "code",
      "source": [
        "plt.figure(figsize=(5, 5))\n",
        "barchart=plt.bar(general_info_df.index,general_info_df['Rate'].squeeze())\n",
        "plt.ylabel('Rating',  fontsize=14)\n",
        "plt.title('Axa and competitors rating',  fontsize=18)\n",
        "barchart[0].set_color('mediumseagreen')\n",
        "barchart[1].set_color('paleturquoise')\n",
        "barchart[2].set_color('plum')\n",
        "plt.show()"
      ],
      "metadata": {
        "id": "wpw-gwvVcU4C",
        "outputId": "8f95a616-fd46-4415-afd2-d6669b2e676e",
        "colab": {
          "base_uri": "https://localhost:8080/",
          "height": 340
        }
      },
      "execution_count": 119,
      "outputs": [
        {
          "output_type": "display_data",
          "data": {
            "text/plain": [
              "<Figure size 360x360 with 1 Axes>"
            ],
            "image/png": "[encoded data removed]"
          },
          "metadata": {
            "needs_background": "light"
          }
        }
      ]
    },
    {
      "cell_type": "code",
      "source": [
        "plt.figure(figsize=(5, 5))\n",
        "barchart=plt.bar(general_info_df.index,general_info_df['Comments per day(avg)'].squeeze())\n",
        "plt.ylabel('Reviews per day(avg)',  fontsize=14)\n",
        "plt.title('Axa and competitors reviews per day',  fontsize=18)\n",
        "barchart[0].set_color('mediumseagreen')\n",
        "barchart[1].set_color('paleturquoise')\n",
        "barchart[2].set_color('plum')\n",
        "plt.show()"
      ],
      "metadata": {
        "id": "BJKAxYn4iuzT",
        "outputId": "ef2ce329-cb8e-453f-b9ef-11ea371017c0",
        "colab": {
          "base_uri": "https://localhost:8080/",
          "height": 340
        }
      },
      "execution_count": 123,
      "outputs": [
        {
          "output_type": "display_data",
          "data": {
            "text/plain": [
              "<Figure size 360x360 with 1 Axes>"
            ],
            "image/png": "[encoded data removed]"
          },
          "metadata": {
            "needs_background": "light"
          }
        }
      ]
    },
    {
      "cell_type": "code",
      "source": [
        "plt.figure(figsize=(5, 5))\n",
        "barchart=plt.bar(general_info_df.index,general_info_df['Comments per week(avg)'].squeeze())\n",
        "plt.ylabel('Reviews per week(avg)',  fontsize=14)\n",
        "plt.title('Axa and competitors reviews per week',  fontsize=18)\n",
        "barchart[0].set_color('mediumseagreen')\n",
        "barchart[1].set_color('paleturquoise')\n",
        "barchart[2].set_color('plum')\n",
        "plt.show()"
      ],
      "metadata": {
        "id": "noHQECXUi_tW",
        "outputId": "b2d09d6c-ef90-4b26-ee0a-ff3379952251",
        "colab": {
          "base_uri": "https://localhost:8080/",
          "height": 340
        }
      },
      "execution_count": 129,
      "outputs": [
        {
          "output_type": "display_data",
          "data": {
            "text/plain": [
              "<Figure size 360x360 with 1 Axes>"
            ],
            "image/png": "[encoded data removed]"
          },
          "metadata": {
            "needs_background": "light"
          }
        }
      ]
    },
    {
      "cell_type": "code",
      "source": [
        "# axa3[1] = pd.to_datetime(axa3[1])\n",
        "# # axa3[1] = pd.to_datetime(axa3[1]) - pd.to_timedelta(7, unit='d')\n"
      ],
      "metadata": {
        "id": "iYIryDQohoEf"
      },
      "execution_count": null,
      "outputs": []
    },
    {
      "cell_type": "code",
      "source": [
        "# plt.figure(figsize=(10, 5))\n",
        "# plt.plot(axa3.groupby([pd.Grouper(key=1, freq='M')])[0].mean())\n",
        "# plt.show()"
      ],
      "metadata": {
        "id": "KPiA1KWViTGt"
      },
      "execution_count": null,
      "outputs": []
    },
    {
      "cell_type": "markdown",
      "source": [
        "Grouping and plotting"
      ],
      "metadata": {
        "id": "OXk7mgLffwEz"
      }
    },
    {
      "cell_type": "code",
      "source": [
        "# This is for grouping by week (can be adjusted to month)\n",
        "# df.groupby([pd.Grouper(key=1, freq='W')])[0].mean()\n",
        "#This needs to be done before grouping by date!!!!\n",
        "# df_axa[1] = pd.to_datetime(df_axa[1]) - pd.to_timedelta(7, unit='d')\n"
      ],
      "metadata": {
        "id": "trZ1qXeedazn"
      },
      "execution_count": null,
      "outputs": []
    },
    {
      "cell_type": "code",
      "source": [
        "\n",
        "plt.figure(figsize=(10, 5))\n",
        "plt.plot(df_axa.groupby([pd.Grouper(key=1, freq='M')])[0].mean(), label='AXA', color='mediumseagreen')\n",
        "plt.plot(df_admiral.groupby([pd.Grouper(key=1, freq='M')])[0].mean(), label='Admiral', color='plum')\n",
        "plt.plot(df_frontier.groupby([pd.Grouper(key=1, freq='M')])[0].mean(), label='Frontier', color='paleturquoise')\n",
        "plt.title('Rating behaviour by Month',  fontsize=18)\n",
        "plt.ylabel('Rating',  fontsize=14)\n",
        "plt.grid()\n",
        "plt.legend()\n",
        "\n",
        "plt.show()"
      ],
      "metadata": {
        "colab": {
          "base_uri": "https://localhost:8080/",
          "height": 340
        },
        "id": "ao2B6lATz_qx",
        "outputId": "df9abbd8-967e-4e3e-e3bf-4398a6f2b717"
      },
      "execution_count": 137,
      "outputs": [
        {
          "output_type": "display_data",
          "data": {
            "text/plain": [
              "<Figure size 720x360 with 1 Axes>"
            ],
            "image/png": "[encoded data removed]"
          },
          "metadata": {
            "needs_background": "light"
          }
        }
      ]
    }
  ]
}