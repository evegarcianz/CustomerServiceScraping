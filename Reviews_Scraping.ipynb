{
  "nbformat": 4,
  "nbformat_minor": 0,
  "metadata": {
    "colab": {
      "name": "Reviews_Scraping.ipynb",
      "provenance": []
    },
    "kernelspec": {
      "name": "python3",
      "display_name": "Python 3"
    },
    "language_info": {
      "name": "python"
    }
  },
  "cells": [
    {
      "cell_type": "code",
      "execution_count": 1,
      "metadata": {
        "colab": {
          "base_uri": "https://localhost:8080/"
        },
        "id": "-hYKnBXiBAQR",
        "outputId": "afac8d82-961a-40f5-b2bc-1cf2d150ef03"
      },
      "outputs": [
        {
          "output_type": "stream",
          "name": "stdout",
          "text": [
            "Looking in indexes: https://pypi.org/simple, https://us-python.pkg.dev/colab-wheels/public/simple/\n",
            "Requirement already satisfied: beautifulsoup4 in /usr/local/lib/python3.7/dist-packages (4.6.3)\n"
          ]
        }
      ],
      "source": [
        "!pip install beautifulsoup4"
      ]
    },
    {
      "cell_type": "code",
      "source": [
        "!pip install requests"
      ],
      "metadata": {
        "colab": {
          "base_uri": "https://localhost:8080/"
        },
        "id": "AR2nG_uIBQ-C",
        "outputId": "f752df94-7fff-490a-ccdb-af7e64a281a8"
      },
      "execution_count": 2,
      "outputs": [
        {
          "output_type": "stream",
          "name": "stdout",
          "text": [
            "Looking in indexes: https://pypi.org/simple, https://us-python.pkg.dev/colab-wheels/public/simple/\n",
            "Requirement already satisfied: requests in /usr/local/lib/python3.7/dist-packages (2.23.0)\n",
            "Requirement already satisfied: urllib3!=1.25.0,!=1.25.1,<1.26,>=1.21.1 in /usr/local/lib/python3.7/dist-packages (from requests) (1.24.3)\n",
            "Requirement already satisfied: certifi>=2017.4.17 in /usr/local/lib/python3.7/dist-packages (from requests) (2022.6.15)\n",
            "Requirement already satisfied: idna<3,>=2.5 in /usr/local/lib/python3.7/dist-packages (from requests) (2.10)\n",
            "Requirement already satisfied: chardet<4,>=3.0.2 in /usr/local/lib/python3.7/dist-packages (from requests) (3.0.4)\n"
          ]
        }
      ]
    },
    {
      "cell_type": "code",
      "source": [
        "from bs4 import BeautifulSoup\n",
        "import requests\n",
        "import re\n",
        "from datetime import datetime\n",
        "import pandas as pd\n",
        "import matplotlib.pyplot as plt\n",
        "import seaborn as sns"
      ],
      "metadata": {
        "id": "9769CymEKPg4"
      },
      "execution_count": 106,
      "outputs": []
    },
    {
      "cell_type": "code",
      "source": [
        "#This first URL is to obtain the total of pages we will iterate through\n",
        "#'https://www.trustpilot.com/review/www.axa.co.uk and https://www.trustpilot.com/review/www.axa.co.uk?page=1 work exactly the same '\n",
        "url= 'https://www.trustpilot.com/review/www.axa.co.uk?page=1'\n",
        "results=requests.get(url)\n",
        "doc=BeautifulSoup(results.text, 'html.parser')\n",
        "\n",
        "#Obtains the total of pages\n",
        "pages=doc.find('a', {'name':'pagination-button-last'})\n",
        "total_pages=int(pages.string)\n",
        "\n"
      ],
      "metadata": {
        "id": "T3BYS1YLHoFc"
      },
      "execution_count": 4,
      "outputs": []
    },
    {
      "cell_type": "markdown",
      "source": [
        "## Obtaining reviews paragraphs"
      ],
      "metadata": {
        "id": "i3CL2oxVdL-r"
      }
    },
    {
      "cell_type": "code",
      "source": [
        "#Only the paragraphs belonging to the correct class reviews\n",
        "#paragraphs2=doc.find_all('p',{'class':\"typography_typography__QgicV typography_body__9UBeQ typography_color-black__5LYEn typography_weight-regular__TWEnf typography_fontstyle-normal__kHyN3\"})\n"
      ],
      "metadata": {
        "id": "Je8ZFfCuQvzh"
      },
      "execution_count": 5,
      "outputs": []
    },
    {
      "cell_type": "code",
      "source": [
        "#text for obtaining the text even if it has breaks <br>\n",
        "#if I use .string instead of .text returns None when <br> present\n",
        "# for para in paragraphs2:\n",
        "#   print(para.text)"
      ],
      "metadata": {
        "id": "S_ySkVoIQ2V3"
      },
      "execution_count": 6,
      "outputs": []
    },
    {
      "cell_type": "markdown",
      "source": [
        "## Obtaining the date of the reviews"
      ],
      "metadata": {
        "id": "E2RWYf0ydWt3"
      }
    },
    {
      "cell_type": "code",
      "source": [
        "# dates=doc.find_all('time')\n",
        "# len(dates)"
      ],
      "metadata": {
        "id": "FPJCAtTzdBjf"
      },
      "execution_count": 7,
      "outputs": []
    },
    {
      "cell_type": "markdown",
      "source": [
        "## Obtaining data by descendants"
      ],
      "metadata": {
        "id": "2rwAtsvnbLSz"
      }
    },
    {
      "cell_type": "code",
      "source": [
        "# section=doc.find('section',{'class':\"styles_reviewsContainer__3_GQw\"})\n",
        "\n",
        "## Should iterate through these articles\n",
        "# articles=doc.find_all('article',{'class':\"paper_paper__1PY90 paper_square__lJX8a card_card__lQWDv styles_reviewCard__hcAvl\"})\n",
        "# articles=doc.find_all('article',{'class':\"paper_paper__1PY90 paper_square__lJX8a card_card__lQWDv styles_reviewCard__hcAvl styles_raised__HxiOi\"})\n",
        "\n",
        "#wrapers are the base, they are the containers of the reviews\n",
        "\n"
      ],
      "metadata": {
        "id": "HG98hqC6bscJ"
      },
      "execution_count": 8,
      "outputs": []
    },
    {
      "cell_type": "code",
      "source": [
        "## Obtaining date\n",
        "# times=wrapers[0].contents[0].contents[1].find('time')\n",
        "# t=times['datetime']\n",
        "# fecha=re.search(\"([0-9]{4}\\-[0-9]{2}\\-[0-9]{2})\", t)\n",
        "# fecha[0]\n",
        "# print (datetime.fromisoformat(fecha[0]).date())"
      ],
      "metadata": {
        "id": "z4V80bfvm4SY"
      },
      "execution_count": 9,
      "outputs": []
    },
    {
      "cell_type": "code",
      "source": [
        "# for w in wrapers[3].contents[1]:\n",
        "#   print(w)\n"
      ],
      "metadata": {
        "id": "IjOEesRNup9Y"
      },
      "execution_count": 10,
      "outputs": []
    },
    {
      "cell_type": "code",
      "source": [
        "# wrapers[3].contents[1].find('p').text"
      ],
      "metadata": {
        "id": "a7P6-Se_wVzN"
      },
      "execution_count": 11,
      "outputs": []
    },
    {
      "cell_type": "code",
      "source": [
        "# for page in range(total_pages):\n",
        "lista=[]\n",
        "for page in range(1,total_pages+1):\n",
        "\n",
        "  #print(f'this is page{page}')\n",
        "\n",
        "\n",
        "  url= f'https://www.trustpilot.com/review/www.axa.co.uk?page={page}'\n",
        "  results=requests.get(url)\n",
        "  doc=BeautifulSoup(results.text, 'html.parser')\n",
        "\n",
        "#wrapers are the base of everything there is on content wrapper of class \"styles_reviewContentwrapper__zH_9M\n",
        "#for every review and they nest rating, time, title and the review text\n",
        "  wrapers=doc.find_all('section',{'class':\"styles_reviewContentwrapper__zH_9M\"})\n",
        "  \n",
        "  \n",
        "  for i in range(len(wrapers)):\n",
        "    #this gets the rating wrapers[i].contents[0]['data-service-review-rating']\n",
        "    rating=int(wrapers[i].contents[0]['data-service-review-rating'])\n",
        "    #this gets the date\n",
        "    times_tag=wrapers[i].contents[0].contents[1].find('time')\n",
        "    time_string_long=times_tag['datetime']\n",
        "    time_string_regex=re.search(\"([0-9]{4}\\-[0-9]{2}\\-[0-9]{2})\", time_string_long)\n",
        "    time_string_short=time_string_regex[0]\n",
        "    date= datetime.fromisoformat(time_string_short).date()\n",
        "    #Review title\n",
        "    title=wrapers[i].contents[1].find('h2').text\n",
        "    #Review tex\n",
        "    if wrapers[i].contents[1].find('p'):\n",
        "      review=wrapers[i].contents[1].find('p').text\n",
        "    else:\n",
        "      review= None\n",
        "\n",
        "\n",
        "    data=[rating,date,title,review]\n",
        "\n",
        "    lista.append(data) \n",
        "  \n"
      ],
      "metadata": {
        "id": "PUrKE3wflcML"
      },
      "execution_count": 93,
      "outputs": []
    },
    {
      "cell_type": "code",
      "source": [
        "# df=pd.DataFrame(lista,columns=[['Rating', 'Date', 'Title', 'Review']])\n",
        "df=pd.DataFrame(lista)"
      ],
      "metadata": {
        "id": "7fHuYAH7nPtV"
      },
      "execution_count": 94,
      "outputs": []
    },
    {
      "cell_type": "code",
      "source": [
        "# type(df.Date.loc[0][0])"
      ],
      "metadata": {
        "id": "YVrrwOZ8h5HD"
      },
      "execution_count": 131,
      "outputs": []
    },
    {
      "cell_type": "code",
      "source": [
        "df.head()"
      ],
      "metadata": {
        "id": "LYhxTFvniP_Z",
        "outputId": "58bcf12b-ce14-483a-c7f6-517017e93e75",
        "colab": {
          "base_uri": "https://localhost:8080/",
          "height": 206
        }
      },
      "execution_count": 132,
      "outputs": [
        {
          "output_type": "execute_result",
          "data": {
            "text/plain": [
              "   0          1                                                 2  \\\n",
              "0  5 2022-07-24                Website was easy to get around it…   \n",
              "1  5 2022-07-23            Very helpful gentleman helped me sort…   \n",
              "2  5 2022-07-23  Changed my car and wanted to update my insurance   \n",
              "3  1 2022-07-23                          Useless emergency policy   \n",
              "4  3 2022-07-23    Delay in receiving new car insurance documents   \n",
              "\n",
              "                                                   3  \n",
              "0  Website was easy to get around it didn't take ...  \n",
              "1  Very helpful gentleman helped me sort out addi...  \n",
              "2  Changed my car and wanted to update my insuran...  \n",
              "3  Bought emergency cover for plumbing and drains...  \n",
              "4  Although I received my new insurance certifica...  "
            ],
            "text/html": [
              "\n",
              "  <div id=\"df-f9a7c454-43da-4b35-a285-6379aa325cae\">\n",
              "    <div class=\"colab-df-container\">\n",
              "      <div>\n",
              "<style scoped>\n",
              "    .dataframe tbody tr th:only-of-type {\n",
              "        vertical-align: middle;\n",
              "    }\n",
              "\n",
              "    .dataframe tbody tr th {\n",
              "        vertical-align: top;\n",
              "    }\n",
              "\n",
              "    .dataframe thead th {\n",
              "        text-align: right;\n",
              "    }\n",
              "</style>\n",
              "<table border=\"1\" class=\"dataframe\">\n",
              "  <thead>\n",
              "    <tr style=\"text-align: right;\">\n",
              "      <th></th>\n",
              "      <th>0</th>\n",
              "      <th>1</th>\n",
              "      <th>2</th>\n",
              "      <th>3</th>\n",
              "    </tr>\n",
              "  </thead>\n",
              "  <tbody>\n",
              "    <tr>\n",
              "      <th>0</th>\n",
              "      <td>5</td>\n",
              "      <td>2022-07-24</td>\n",
              "      <td>Website was easy to get around it…</td>\n",
              "      <td>Website was easy to get around it didn't take ...</td>\n",
              "    </tr>\n",
              "    <tr>\n",
              "      <th>1</th>\n",
              "      <td>5</td>\n",
              "      <td>2022-07-23</td>\n",
              "      <td>Very helpful gentleman helped me sort…</td>\n",
              "      <td>Very helpful gentleman helped me sort out addi...</td>\n",
              "    </tr>\n",
              "    <tr>\n",
              "      <th>2</th>\n",
              "      <td>5</td>\n",
              "      <td>2022-07-23</td>\n",
              "      <td>Changed my car and wanted to update my insurance</td>\n",
              "      <td>Changed my car and wanted to update my insuran...</td>\n",
              "    </tr>\n",
              "    <tr>\n",
              "      <th>3</th>\n",
              "      <td>1</td>\n",
              "      <td>2022-07-23</td>\n",
              "      <td>Useless emergency policy</td>\n",
              "      <td>Bought emergency cover for plumbing and drains...</td>\n",
              "    </tr>\n",
              "    <tr>\n",
              "      <th>4</th>\n",
              "      <td>3</td>\n",
              "      <td>2022-07-23</td>\n",
              "      <td>Delay in receiving new car insurance documents</td>\n",
              "      <td>Although I received my new insurance certifica...</td>\n",
              "    </tr>\n",
              "  </tbody>\n",
              "</table>\n",
              "</div>\n",
              "      <button class=\"colab-df-convert\" onclick=\"convertToInteractive('df-f9a7c454-43da-4b35-a285-6379aa325cae')\"\n",
              "              title=\"Convert this dataframe to an interactive table.\"\n",
              "              style=\"display:none;\">\n",
              "        \n",
              "  <svg xmlns=\"http://www.w3.org/2000/svg\" height=\"24px\"viewBox=\"0 0 24 24\"\n",
              "       width=\"24px\">\n",
              "    <path d=\"M0 0h24v24H0V0z\" fill=\"none\"/>\n",
              "    <path d=\"M18.56 5.44l.94 2.06.94-2.06 2.06-.94-2.06-.94-.94-2.06-.94 2.06-2.06.94zm-11 1L8.5 8.5l.94-2.06 2.06-.94-2.06-.94L8.5 2.5l-.94 2.06-2.06.94zm10 10l.94 2.06.94-2.06 2.06-.94-2.06-.94-.94-2.06-.94 2.06-2.06.94z\"/><path d=\"M17.41 7.96l-1.37-1.37c-.4-.4-.92-.59-1.43-.59-.52 0-1.04.2-1.43.59L10.3 9.45l-7.72 7.72c-.78.78-.78 2.05 0 2.83L4 21.41c.39.39.9.59 1.41.59.51 0 1.02-.2 1.41-.59l7.78-7.78 2.81-2.81c.8-.78.8-2.07 0-2.86zM5.41 20L4 18.59l7.72-7.72 1.47 1.35L5.41 20z\"/>\n",
              "  </svg>\n",
              "      </button>\n",
              "      \n",
              "  <style>\n",
              "    .colab-df-container {\n",
              "      display:flex;\n",
              "      flex-wrap:wrap;\n",
              "      gap: 12px;\n",
              "    }\n",
              "\n",
              "    .colab-df-convert {\n",
              "      background-color: #E8F0FE;\n",
              "      border: none;\n",
              "      border-radius: 50%;\n",
              "      cursor: pointer;\n",
              "      display: none;\n",
              "      fill: #1967D2;\n",
              "      height: 32px;\n",
              "      padding: 0 0 0 0;\n",
              "      width: 32px;\n",
              "    }\n",
              "\n",
              "    .colab-df-convert:hover {\n",
              "      background-color: #E2EBFA;\n",
              "      box-shadow: 0px 1px 2px rgba(60, 64, 67, 0.3), 0px 1px 3px 1px rgba(60, 64, 67, 0.15);\n",
              "      fill: #174EA6;\n",
              "    }\n",
              "\n",
              "    [theme=dark] .colab-df-convert {\n",
              "      background-color: #3B4455;\n",
              "      fill: #D2E3FC;\n",
              "    }\n",
              "\n",
              "    [theme=dark] .colab-df-convert:hover {\n",
              "      background-color: #434B5C;\n",
              "      box-shadow: 0px 1px 3px 1px rgba(0, 0, 0, 0.15);\n",
              "      filter: drop-shadow(0px 1px 2px rgba(0, 0, 0, 0.3));\n",
              "      fill: #FFFFFF;\n",
              "    }\n",
              "  </style>\n",
              "\n",
              "      <script>\n",
              "        const buttonEl =\n",
              "          document.querySelector('#df-f9a7c454-43da-4b35-a285-6379aa325cae button.colab-df-convert');\n",
              "        buttonEl.style.display =\n",
              "          google.colab.kernel.accessAllowed ? 'block' : 'none';\n",
              "\n",
              "        async function convertToInteractive(key) {\n",
              "          const element = document.querySelector('#df-f9a7c454-43da-4b35-a285-6379aa325cae');\n",
              "          const dataTable =\n",
              "            await google.colab.kernel.invokeFunction('convertToInteractive',\n",
              "                                                     [key], {});\n",
              "          if (!dataTable) return;\n",
              "\n",
              "          const docLinkHtml = 'Like what you see? Visit the ' +\n",
              "            '<a target=\"_blank\" href=https://colab.research.google.com/notebooks/data_table.ipynb>data table notebook</a>'\n",
              "            + ' to learn more about interactive tables.';\n",
              "          element.innerHTML = '';\n",
              "          dataTable['output_type'] = 'display_data';\n",
              "          await google.colab.output.renderOutput(dataTable, element);\n",
              "          const docLink = document.createElement('div');\n",
              "          docLink.innerHTML = docLinkHtml;\n",
              "          element.appendChild(docLink);\n",
              "        }\n",
              "      </script>\n",
              "    </div>\n",
              "  </div>\n",
              "  "
            ]
          },
          "metadata": {},
          "execution_count": 132
        }
      ]
    },
    {
      "cell_type": "code",
      "source": [
        "df[1] = pd.to_datetime(df[1]) - pd.to_timedelta(7, unit='d')"
      ],
      "metadata": {
        "id": "dcygO4gMypTX"
      },
      "execution_count": 134,
      "outputs": []
    },
    {
      "cell_type": "code",
      "source": [
        "# This is for grouping by week (can be adjusted to month)\n",
        "# df.groupby([pd.Grouper(key=1, freq='W')])[0].mean()"
      ],
      "metadata": {
        "id": "wvT1NUvhzowl"
      },
      "execution_count": 136,
      "outputs": []
    },
    {
      "cell_type": "code",
      "source": [
        "plt.figure(figsize=(10, 5))\n",
        "plt.plot(df.groupby([pd.Grouper(key=1, freq='W')])[0].mean())\n",
        "plt.show()"
      ],
      "metadata": {
        "id": "ao2B6lATz_qx",
        "outputId": "60d7f996-8380-45ae-db44-1cb9b0f2066a",
        "colab": {
          "base_uri": "https://localhost:8080/",
          "height": 320
        }
      },
      "execution_count": 130,
      "outputs": [
        {
          "output_type": "display_data",
          "data": {
            "text/plain": [
              "<Figure size 720x360 with 1 Axes>"
            ],
            "image/png": "[encoded data removed]"
          },
          "metadata": {
            "needs_background": "light"
          }
        }
      ]
    }
  ]
}